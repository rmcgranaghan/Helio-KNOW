{
 "cells": [
  {
   "cell_type": "markdown",
   "id": "9e4bf570",
   "metadata": {},
   "source": [
    "#### Setup"
   ]
  },
  {
   "cell_type": "code",
   "execution_count": 6,
   "id": "051923da",
   "metadata": {
    "ExecuteTime": {
     "end_time": "2021-04-26T12:48:08.778496Z",
     "start_time": "2021-04-26T12:48:08.776196Z"
    }
   },
   "outputs": [],
   "source": [
    "import os\n",
    "import numpy as np\n",
    "import pandas as pd\n",
    "\n",
    "import json"
   ]
  },
  {
   "cell_type": "markdown",
   "id": "915acce7",
   "metadata": {},
   "source": [
    "#### Add metadata to dictionary"
   ]
  },
  {
   "cell_type": "code",
   "execution_count": 7,
   "id": "64d95e33",
   "metadata": {
    "ExecuteTime": {
     "end_time": "2021-04-26T12:48:37.058227Z",
     "start_time": "2021-04-26T12:48:37.055892Z"
    }
   },
   "outputs": [],
   "source": [
    "platforms = ['dmspf06',\n",
    "             'dmspf07',\n",
    "             'dmspf08',\n",
    "             'dmspf09',\n",
    "             'dmspf10',\n",
    "             'dmspf11',\n",
    "             'dmspf12',\n",
    "             'dmspf13',\n",
    "             'dmspf14',\n",
    "             'dmspf15',\n",
    "             'dmspf16',\n",
    "             'dmspf17',\n",
    "             'dmspf18',\n",
    "             'fast']"
   ]
  },
  {
   "cell_type": "code",
   "execution_count": 8,
   "id": "1ee1217b",
   "metadata": {
    "ExecuteTime": {
     "end_time": "2021-04-26T12:48:38.165162Z",
     "start_time": "2021-04-26T12:48:38.163216Z"
    }
   },
   "outputs": [],
   "source": [
    "dict_metadata = {\n",
    "    'platforms': platforms\n",
    "}"
   ]
  },
  {
   "cell_type": "code",
   "execution_count": 9,
   "id": "2fb9f9f6",
   "metadata": {
    "ExecuteTime": {
     "end_time": "2021-04-26T12:48:38.633787Z",
     "start_time": "2021-04-26T12:48:38.630680Z"
    }
   },
   "outputs": [
    {
     "data": {
      "text/plain": [
       "['dmspf06',\n",
       " 'dmspf07',\n",
       " 'dmspf08',\n",
       " 'dmspf09',\n",
       " 'dmspf10',\n",
       " 'dmspf11',\n",
       " 'dmspf12',\n",
       " 'dmspf13',\n",
       " 'dmspf14',\n",
       " 'dmspf15',\n",
       " 'dmspf16',\n",
       " 'dmspf17',\n",
       " 'dmspf18',\n",
       " 'fast']"
      ]
     },
     "execution_count": 9,
     "metadata": {},
     "output_type": "execute_result"
    }
   ],
   "source": [
    "dict_metadata['platforms']"
   ]
  },
  {
   "cell_type": "markdown",
   "id": "d380539e",
   "metadata": {},
   "source": [
    "#### Write metadata JSON file"
   ]
  },
  {
   "cell_type": "code",
   "execution_count": 10,
   "id": "b403b5c9",
   "metadata": {
    "ExecuteTime": {
     "end_time": "2021-04-26T12:49:33.026405Z",
     "start_time": "2021-04-26T12:49:33.023389Z"
    }
   },
   "outputs": [],
   "source": [
    "\n",
    "json = json.dumps(dict_metadata)\n",
    "f = open(\"helioKNOW_metadata.json\",\"w\")\n",
    "f.write(json)\n",
    "f.close()"
   ]
  },
  {
   "cell_type": "code",
   "execution_count": null,
   "id": "544d8413",
   "metadata": {},
   "outputs": [],
   "source": []
  }
 ],
 "metadata": {
  "kernelspec": {
   "display_name": "Python 3",
   "language": "python",
   "name": "python3"
  },
  "language_info": {
   "codemirror_mode": {
    "name": "ipython",
    "version": 3
   },
   "file_extension": ".py",
   "mimetype": "text/x-python",
   "name": "python",
   "nbconvert_exporter": "python",
   "pygments_lexer": "ipython3",
   "version": "3.9.2"
  }
 },
 "nbformat": 4,
 "nbformat_minor": 5
}
