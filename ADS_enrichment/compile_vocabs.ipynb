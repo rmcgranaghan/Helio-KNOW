{
 "cells": [
  {
   "cell_type": "code",
   "execution_count": 1,
   "id": "734a7f24-9ef0-40c8-b93d-2c0660ea170b",
   "metadata": {
    "ExecuteTime": {
     "end_time": "2022-06-27T18:20:50.031653Z",
     "start_time": "2022-06-27T18:20:49.107484Z"
    }
   },
   "outputs": [],
   "source": [
    "import re\n",
    "\n",
    "import pandas as pd\n",
    "from rdflib import Graph, Namespace, URIRef, RDFS, DCTERMS, Literal, SKOS, RDF\n",
    "\n",
    "import numpy as np\n",
    "import pandas as pd\n",
    "import os\n",
    "import math\n",
    "\n",
    "import urllib.request\n",
    "import urllib.parse\n",
    "import re\n",
    "\n",
    "import matplotlib.pyplot as plt"
   ]
  },
  {
   "cell_type": "code",
   "execution_count": 2,
   "id": "be8c8814-0799-4735-ba43-e43a384459fa",
   "metadata": {
    "ExecuteTime": {
     "end_time": "2022-06-27T18:20:54.017394Z",
     "start_time": "2022-06-27T18:20:54.013562Z"
    }
   },
   "outputs": [],
   "source": [
    "def curie_terms(terms, graph=None):\n",
    "    return [t.n3(graph.namespace_manager) for t in terms]\n",
    "    \n",
    "def curie_results(query, graph=None):\n",
    "    return [curie_terms(row, graph) for row in graph.query(query)]"
   ]
  },
  {
   "cell_type": "markdown",
   "id": "d3889a1c-02e9-453e-b0f0-c5a226b5df88",
   "metadata": {
    "heading_collapsed": true
   },
   "source": [
    "# Select UAT Terms"
   ]
  },
  {
   "cell_type": "code",
   "execution_count": 3,
   "id": "14d8b913-8453-42e5-a77c-146e3a172573",
   "metadata": {
    "ExecuteTime": {
     "end_time": "2022-06-27T18:20:57.785987Z",
     "start_time": "2022-06-27T18:20:54.914962Z"
    },
    "hidden": true
   },
   "outputs": [
    {
     "data": {
      "text/plain": [
       "22947"
      ]
     },
     "execution_count": 3,
     "metadata": {},
     "output_type": "execute_result"
    }
   ],
   "source": [
    "g_uat = Graph()\n",
    "g_uat.parse(\n",
    "    source=\"https://github.com/astrothesaurus/UAT/raw/v.4.2.0/UAT.rdf\",\n",
    "    format=\"xml\"\n",
    ")\n",
    "len(g_uat)"
   ]
  },
  {
   "cell_type": "code",
   "execution_count": 5,
   "id": "489ef53c-e0c9-4ea9-9b58-56ec0b8a1576",
   "metadata": {
    "ExecuteTime": {
     "end_time": "2022-06-27T18:27:50.660549Z",
     "start_time": "2022-06-27T18:27:49.197669Z"
    },
    "hidden": true
   },
   "outputs": [],
   "source": [
    "_ = g_uat.serialize(destination=\"uat.ttl\", format=\"turtle\")"
   ]
  },
  {
   "cell_type": "markdown",
   "id": "0d87eedd-13bb-4b25-9f13-6b7209c6c0ec",
   "metadata": {
    "hidden": true
   },
   "source": [
    "Note: Using https://github.com/edmcouncil/rdf-toolkit (v1.12.0)\n",
    "to normalize text/turtle serialization for helpful git diffs."
   ]
  },
  {
   "cell_type": "code",
   "execution_count": 6,
   "id": "4114db30-ee06-4683-baf2-70746c33ba3b",
   "metadata": {
    "ExecuteTime": {
     "end_time": "2022-06-27T18:27:59.196958Z",
     "start_time": "2022-06-27T18:27:59.194070Z"
    },
    "hidden": true
   },
   "outputs": [],
   "source": [
    "bindings = (\n",
    "    (\"skos\", SKOS),\n",
    "    (\"uat\", Namespace(\"http://astrothesaurus.org/uat/\")),\n",
    ")\n",
    "for b in bindings:\n",
    "    g_uat.namespace_manager.bind(*b)"
   ]
  },
  {
   "cell_type": "code",
   "execution_count": 7,
   "id": "d8bdc9eb-e3e9-427c-b7af-112e7b7383a1",
   "metadata": {
    "ExecuteTime": {
     "end_time": "2022-06-27T18:28:00.570026Z",
     "start_time": "2022-06-27T18:28:00.401724Z"
    },
    "hidden": true
   },
   "outputs": [],
   "source": [
    "df_ads = pd.read_csv(\"https://raw.githubusercontent.com/rmcgranaghan/Helio-KNOW/main/ADS_enrichment/data/UAT_Solar-related-concepts.csv\")\n",
    "\n"
   ]
  },
  {
   "cell_type": "code",
   "execution_count": 9,
   "id": "a9c7cd87-fc6e-4c53-a253-786ad2bf4c57",
   "metadata": {
    "ExecuteTime": {
     "end_time": "2022-06-27T18:28:26.806332Z",
     "start_time": "2022-06-27T18:28:26.801614Z"
    },
    "hidden": true
   },
   "outputs": [],
   "source": [
    "paths = []\n",
    "for row in df_ads.itertuples():\n",
    "    paths.append([elt for elt in row if isinstance(elt, str)])"
   ]
  },
  {
   "cell_type": "code",
   "execution_count": 8,
   "id": "d266ee2e-365d-40da-9770-8662756b0997",
   "metadata": {
    "hidden": true
   },
   "outputs": [],
   "source": [
    "uat_helio = []\n",
    "for path in paths:\n",
    "    q = f\"\"\"\n",
    "        SELECT ?c WHERE {{\n",
    "            ?c skos:prefLabel \"{path[-1]}\"@en .\n",
    "        }}\n",
    "    \"\"\"\n",
    "    results = curie_results(q, g_uat)\n",
    "    assert len(results) == 1\n",
    "    uat_helio.append({\"curie\": results[0][0],\"label_path\": path})"
   ]
  },
  {
   "cell_type": "code",
   "execution_count": 9,
   "id": "96e0ad69-22cd-41ec-bde1-bd506a192ad9",
   "metadata": {
    "hidden": true
   },
   "outputs": [
    {
     "data": {
      "text/plain": [
       "444"
      ]
     },
     "execution_count": 9,
     "metadata": {},
     "output_type": "execute_result"
    }
   ],
   "source": [
    "len(uat_helio)"
   ]
  },
  {
   "cell_type": "code",
   "execution_count": 10,
   "id": "494ad419-ba0b-4ef1-95b8-1a493e54af59",
   "metadata": {
    "hidden": true
   },
   "outputs": [],
   "source": [
    "g_uat_helio = Graph()\n",
    "g_uat_helio.namespace_manager.bind(\"uat\", Namespace(\"http://astrothesaurus.org/uat/\"))\n",
    "for term_info in uat_helio:\n",
    "    curie = term_info[\"curie\"]\n",
    "    predicate_objects = g_uat.query(f\"\"\"\n",
    "        SELECT ?p ?o WHERE {{\n",
    "            {curie} ?p ?o .\n",
    "        }}\n",
    "    \"\"\")\n",
    "    \n",
    "    for p, o in predicate_objects:\n",
    "        g_uat_helio.add((URIRef(curie), p, o))\n",
    "    subject_predicates = g_uat.query(f\"\"\"\n",
    "        SELECT ?s ?p {{\n",
    "            ?s ?p {curie} .\n",
    "        }}\n",
    "    \"\"\")\n",
    "    \n",
    "    for s, p in subject_predicates:\n",
    "        g_uat_helio.add((s, p, URIRef(curie)))        "
   ]
  },
  {
   "cell_type": "code",
   "execution_count": 11,
   "id": "0c19ed8f-121c-4e79-8922-cdf893879dab",
   "metadata": {
    "hidden": true
   },
   "outputs": [
    {
     "data": {
      "text/plain": [
       "(22947, 4358)"
      ]
     },
     "execution_count": 11,
     "metadata": {},
     "output_type": "execute_result"
    }
   ],
   "source": [
    "len(g_uat), len(g_uat_helio)"
   ]
  },
  {
   "cell_type": "code",
   "execution_count": 12,
   "id": "0e6a971c-fef0-4d2a-9063-b87ae73f0c2c",
   "metadata": {
    "hidden": true
   },
   "outputs": [
    {
     "data": {
      "text/plain": [
       "<Graph identifier=N2bdb6fcf290c4e11bdbeec34fccdab22 (<class 'rdflib.graph.Graph'>)>"
      ]
     },
     "execution_count": 12,
     "metadata": {},
     "output_type": "execute_result"
    }
   ],
   "source": [
    "g_uat_helio.serialize(\"uat_helio.ttl\")"
   ]
  },
  {
   "cell_type": "markdown",
   "id": "40859256-abbd-408c-95df-5b04a80021c0",
   "metadata": {
    "heading_collapsed": true
   },
   "source": [
    "# Triplify AGU Terms"
   ]
  },
  {
   "cell_type": "code",
   "execution_count": 13,
   "id": "6903850c-d103-4c8b-8399-c0c22fb0e927",
   "metadata": {
    "hidden": true
   },
   "outputs": [],
   "source": [
    "df_agu = pd.read_excel(\"https://github.com/rmcgranaghan/Helio-KNOW/raw/main/ADS_enrichment/data/agu-index-terms.xlsx\")"
   ]
  },
  {
   "cell_type": "code",
   "execution_count": 14,
   "id": "69459d2a-992d-43e5-b702-d6e0acbbe9fd",
   "metadata": {
    "hidden": true
   },
   "outputs": [],
   "source": [
    "URI_BASE = \"https://n2t.net/ark:57802/dw0/agu\"\n",
    "vocab = URIRef(URI_BASE)\n",
    "\n",
    "description_with_related_terms = re.compile(\n",
    "    r\"(?P<description>[^\\(]+)\\s+\\((?P<related>[\\d\\,\\s]+)\\)$\"\n",
    ")\n",
    "\n",
    "g_agu = Graph()\n",
    "\n",
    "g_agu.add((vocab, RDF.type, SKOS.ConceptScheme))\n",
    "g_agu.add((vocab, DCTERMS.title, Literal(\"AGU Index Terms\")))\n",
    "g_agu.add((\n",
    "    vocab,\n",
    "    DCTERMS.publisher,\n",
    "    URIRef(\"https://www.agu.org/Publish-with-AGU/Publish/Author-Resources/Index-terms\")\n",
    "))\n",
    "\n",
    "for i in range(len(df_agu)):\n",
    "    term_info = df_agu.iloc[i]\n",
    "    code, description = \"{:04}\".format(term_info['Code']), term_info['Description']\n",
    "    term = URIRef(f\"{URI_BASE}/{code}\")\n",
    "    \n",
    "    g_agu.add((term, RDF.type, SKOS.Concept))\n",
    "    g_agu.add((term, SKOS.prefLabel, Literal(code)))\n",
    "    g_agu.add((term, RDFS.isDefinedBy, vocab))\n",
    "    g_agu.add((term, RDFS.comment, Literal(f\"CODE: {code}\")))\n",
    "    \n",
    "    m = re.fullmatch(description_with_related_terms, description)\n",
    "    if m:\n",
    "        related_terms = []\n",
    "        for _code in re.split(r\"[,\\s]+\", m.group('related')):\n",
    "            related_terms.append(URIRef(f\"{URI_BASE}/{_code}\"))\n",
    "        for rt in related_terms:\n",
    "            g_agu.add((term, SKOS.related, rt))\n",
    "        description = m.group('description')\n",
    "    g_agu.add((term, SKOS.definition, Literal(description)))\n",
    "    \n",
    "    if code.endswith(\"00\"):\n",
    "        g_agu.add((term, SKOS.topConceptOf, vocab))\n",
    "        g_agu.add((vocab, SKOS.hasTopConcept, term))\n",
    "    else:\n",
    "        top_concept = URIRef(f\"{URI_BASE}/{code[:2]}00\")\n",
    "        g_agu.add((term, SKOS.broader, top_concept))\n",
    "        g_agu.add((top_concept, SKOS.narrower, term))"
   ]
  },
  {
   "cell_type": "code",
   "execution_count": 15,
   "id": "7fa9aab2-792b-48ac-bce7-3d510a4a1389",
   "metadata": {
    "hidden": true
   },
   "outputs": [
    {
     "data": {
      "text/plain": [
       "<Graph identifier=N8fa2e86f4fd2442492713d4072b98e24 (<class 'rdflib.graph.Graph'>)>"
      ]
     },
     "execution_count": 15,
     "metadata": {},
     "output_type": "execute_result"
    }
   ],
   "source": [
    "g_agu.serialize(\"agu_index_terms.ttl\")"
   ]
  },
  {
   "cell_type": "markdown",
   "id": "0ec8eba0-ddfc-4753-bbed-f2ebff279811",
   "metadata": {
    "hidden": true
   },
   "source": [
    "Pushed to <https://n2t.net/ark:57802/dw0/agu>"
   ]
  },
  {
   "cell_type": "markdown",
   "id": "5e5a86dc-506c-43ba-865b-eaea7d86632f",
   "metadata": {
    "heading_collapsed": true
   },
   "source": [
    "# Select AGU Terms"
   ]
  },
  {
   "cell_type": "code",
   "execution_count": 16,
   "id": "fbdb34f2-05ef-469f-9dca-065226a6aca4",
   "metadata": {
    "hidden": true
   },
   "outputs": [],
   "source": [
    "g_agu = Graph()\n",
    "g_agu.parse(\"https://n2t.net/ark:57802/dw0/agu\")\n",
    "g_agu.namespace_manager.bind(\"agu\", Namespace(\"https://n2t.net/ark:57802/dw0/agu/\"))"
   ]
  },
  {
   "cell_type": "code",
   "execution_count": 17,
   "id": "b05346fc-1a60-4914-a3b6-18a0e585b1de",
   "metadata": {
    "hidden": true,
    "tags": []
   },
   "outputs": [],
   "source": [
    "agu_selection = list(g_agu.query(\"\"\"\n",
    "    SELECT ?c WHERE {\n",
    "        ?c a skos:Concept .\n",
    "        ?c skos:prefLabel ?code .\n",
    "        FILTER(substr(?code,1,2) = ?code_prefix)\n",
    "        FILTER(substr(?code,3,2) != \"99\")\n",
    "        VALUES ?code_prefix { \"19\" \"21\" \"24\" \"27\" \"32\" \"43\" \"69\" \"75\" \"78\" }\n",
    "    }\n",
    "\"\"\"))"
   ]
  },
  {
   "cell_type": "code",
   "execution_count": 18,
   "id": "73b00d7e-6366-4ad0-8e29-d7c063425d4c",
   "metadata": {
    "hidden": true
   },
   "outputs": [
    {
     "data": {
      "text/plain": [
       "272"
      ]
     },
     "execution_count": 18,
     "metadata": {},
     "output_type": "execute_result"
    }
   ],
   "source": [
    "len(agu_selection)"
   ]
  },
  {
   "cell_type": "code",
   "execution_count": 19,
   "id": "06c5fb02-8c5d-48c8-973a-fa0a7c3b0490",
   "metadata": {
    "hidden": true
   },
   "outputs": [],
   "source": [
    "g_agu_helio = Graph()\n",
    "g_agu_helio.namespace_manager.bind(\"agu\", Namespace(\"https://n2t.net/ark:57802/dw0/agu/\"))\n",
    "for row in agu_selection:\n",
    "    term = row[0]\n",
    "    t = term.n3()\n",
    "    predicate_objects = g_agu.query(f\"\"\"\n",
    "        SELECT ?p ?o WHERE {{\n",
    "            {t} ?p ?o .\n",
    "        }}\n",
    "    \"\"\")\n",
    "    \n",
    "    for p, o in predicate_objects:\n",
    "        g_agu_helio.add((term, p, o))\n",
    "    subject_predicates = g_agu.query(f\"\"\"\n",
    "        SELECT ?s ?p {{\n",
    "            ?s ?p {t} .\n",
    "        }}\n",
    "    \"\"\")\n",
    "    \n",
    "    for s, p in subject_predicates:\n",
    "        g_agu_helio.add((s, p, term)) "
   ]
  },
  {
   "cell_type": "code",
   "execution_count": 20,
   "id": "2867d03e-5b7e-41b2-a58b-d86dee3af3bc",
   "metadata": {
    "hidden": true
   },
   "outputs": [
    {
     "data": {
      "text/plain": [
       "2290"
      ]
     },
     "execution_count": 20,
     "metadata": {},
     "output_type": "execute_result"
    }
   ],
   "source": [
    "len(g_agu_helio)"
   ]
  },
  {
   "cell_type": "code",
   "execution_count": 21,
   "id": "6855f162-15d0-40de-80ff-9207e561e4b2",
   "metadata": {
    "hidden": true
   },
   "outputs": [
    {
     "data": {
      "text/plain": [
       "<Graph identifier=N03c32a493d82405ba17be1b8d42546cd (<class 'rdflib.graph.Graph'>)>"
      ]
     },
     "execution_count": 21,
     "metadata": {},
     "output_type": "execute_result"
    }
   ],
   "source": [
    "g_agu_helio.serialize(\"agu_helio.ttl\")"
   ]
  },
  {
   "cell_type": "markdown",
   "id": "3e63c180-e582-4ca0-8738-bb4f8a33ff5e",
   "metadata": {
    "heading_collapsed": true
   },
   "source": [
    "# Make Candidate UAT incorporating AGU terms"
   ]
  },
  {
   "cell_type": "code",
   "execution_count": null,
   "id": "ad1bbdbf",
   "metadata": {
    "hidden": true
   },
   "outputs": [],
   "source": []
  },
  {
   "cell_type": "code",
   "execution_count": 22,
   "id": "800b24a9-b222-4ff4-92ad-0136668300be",
   "metadata": {
    "hidden": true,
    "tags": []
   },
   "outputs": [
    {
     "data": {
      "text/plain": [
       "[['agu:2400', '\"IONOSPHERE\"'],\n",
       " ['agu:6900', '\"RADIO SCIENCE\"'],\n",
       " ['agu:4300', '\"NATURAL HAZARDS\"'],\n",
       " ['agu:7800', '\"SPACE PLASMA PHYSICS\"'],\n",
       " ['agu:1900', '\"INFORMATICS\"'],\n",
       " ['agu:2700', '\"MAGNETOSPHERIC PHYSICS\"'],\n",
       " ['agu:3200', '\"MATHEMATICAL GEOPHYSICS\"'],\n",
       " ['agu:2100', '\"INTERPLANETARY PHYSICS\"'],\n",
       " ['agu:7500', '\"SOLAR PHYSICS, ASTROPHYSICS, AND ASTRONOMY\"']]"
      ]
     },
     "execution_count": 22,
     "metadata": {},
     "output_type": "execute_result"
    }
   ],
   "source": [
    "q = \"\"\"\n",
    "    SELECT ?c ?descr WHERE {\n",
    "        ?c skos:definition ?descr .\n",
    "        ?c skos:topConceptOf ?v .\n",
    "    }\n",
    "\"\"\"\n",
    "curie_results(q, g_agu_helio)"
   ]
  },
  {
   "cell_type": "code",
   "execution_count": 23,
   "id": "1cb22a64-3444-44c4-b732-d52b3681e759",
   "metadata": {
    "hidden": true,
    "tags": []
   },
   "outputs": [
    {
     "data": {
      "text/plain": [
       "[['<uat:1476>', '\"Solar physics\"@en'],\n",
       " ['<uat:1529>', '\"Solar system astronomy\"@en']]"
      ]
     },
     "execution_count": 23,
     "metadata": {},
     "output_type": "execute_result"
    }
   ],
   "source": [
    "q = \"\"\"\n",
    "    SELECT ?c ?descr WHERE {\n",
    "        ?c skos:prefLabel ?descr .\n",
    "        ?c skos:topConceptOf ?v .\n",
    "    }\n",
    "\"\"\"\n",
    "curie_results(q, g_uat_helio)"
   ]
  },
  {
   "cell_type": "code",
   "execution_count": 24,
   "id": "6ed1c60d-c1d1-4b23-85f5-216a62a4900c",
   "metadata": {
    "hidden": true,
    "tags": []
   },
   "outputs": [
    {
     "data": {
      "text/plain": [
       "[['agu:7546', '\"Transition region\"'],\n",
       " ['agu:7538', '\"Solar irradiance\"'],\n",
       " ['agu:7549', '\"Ultraviolet emissions\"'],\n",
       " ['agu:7519', '\"Flares\"'],\n",
       " ['agu:7594', '\"Instruments and techniques\"'],\n",
       " ['agu:7537', '\"Solar and stellar variability\"'],\n",
       " ['agu:7526', '\"Magnetic reconnection\"'],\n",
       " ['agu:7554', '\"X-rays, gamma rays, and neutrinos\"'],\n",
       " ['agu:7536', '\"Solar activity cycle\"'],\n",
       " ['agu:7524', '\"Magnetic fields\"'],\n",
       " ['agu:7534', '\"Radio emissions\"'],\n",
       " ['agu:7511', '\"Coronal holes\"'],\n",
       " ['agu:7507', '\"Chromosphere\"'],\n",
       " ['agu:7529', '\"Photosphere\"'],\n",
       " ['agu:7514', '\"Energetic particles\"'],\n",
       " ['agu:7509', '\"Corona\"'],\n",
       " ['agu:7531', '\"Prominence eruptions\"'],\n",
       " ['agu:7522', '\"Helioseismology\"'],\n",
       " ['agu:7544', '\"Stellar interiors and dynamo theory\"'],\n",
       " ['agu:7539', '\"Stellar astronomy\"'],\n",
       " ['agu:7513', '\"Coronal mass ejections\"'],\n",
       " ['agu:7504', '\"Celestial mechanics\"']]"
      ]
     },
     "execution_count": 24,
     "metadata": {},
     "output_type": "execute_result"
    }
   ],
   "source": [
    "q = \"\"\"\n",
    "    SELECT ?c ?descr WHERE {\n",
    "        ?c skos:definition ?descr .\n",
    "        ?c skos:broader agu:7500 .\n",
    "    }\n",
    "\"\"\"\n",
    "curie_results(q, g_agu_helio)"
   ]
  },
  {
   "cell_type": "markdown",
   "id": "d88f65a3-eba7-4b74-bd7c-c0953a8201e8",
   "metadata": {
    "hidden": true
   },
   "source": [
    "approach to try for winnowing:\n",
    "\n",
    "- index each node of AUT helio as a document with OpenSearch. Perhaps include all hierarchy (above and below node) and appropriately tune query logic to boost/discount as appropriate.\n",
    "- for each leaf node of AGU helio:\n",
    "    - form a query as the concatenation of all labels from hierarchy\n",
    "    - find and rank relevant matches in the index\n",
    "    - note any (AGU helio, AUT helio) node pairs that have high scores.\n",
    "- {(AGU helio, AUT helio)} nodes with high scores are candidates for SSSOM SKOS mapping statements"
   ]
  },
  {
   "cell_type": "code",
   "execution_count": null,
   "id": "10aada2a",
   "metadata": {
    "hidden": true
   },
   "outputs": [],
   "source": []
  },
  {
   "cell_type": "markdown",
   "id": "7eb34a9c",
   "metadata": {},
   "source": []
  },
  {
   "cell_type": "code",
   "execution_count": null,
   "id": "f9709ecf",
   "metadata": {},
   "outputs": [],
   "source": []
  },
  {
   "cell_type": "code",
   "execution_count": null,
   "id": "1405d2cd",
   "metadata": {},
   "outputs": [],
   "source": []
  },
  {
   "cell_type": "code",
   "execution_count": null,
   "id": "65ca37bc",
   "metadata": {},
   "outputs": [],
   "source": []
  },
  {
   "cell_type": "code",
   "execution_count": null,
   "id": "ada83c8b",
   "metadata": {},
   "outputs": [],
   "source": []
  }
 ],
 "metadata": {
  "kernelspec": {
   "display_name": "Python 3 (ipykernel)",
   "language": "python",
   "name": "python3"
  },
  "language_info": {
   "codemirror_mode": {
    "name": "ipython",
    "version": 3
   },
   "file_extension": ".py",
   "mimetype": "text/x-python",
   "name": "python",
   "nbconvert_exporter": "python",
   "pygments_lexer": "ipython3",
   "version": "3.9.16"
  }
 },
 "nbformat": 4,
 "nbformat_minor": 5
}
