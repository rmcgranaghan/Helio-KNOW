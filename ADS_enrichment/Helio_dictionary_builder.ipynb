{
 "cells": [
  {
   "cell_type": "markdown",
   "id": "fd1c9750",
   "metadata": {},
   "source": [
    "This script serves the building of a Heliophysics dictionary. \n",
    "\n",
    "As we make contributions to the Unified Astronomy Thesaurus, this script will take as input those contributed terms, attach to them the existing definitions from a compendium of Heliophysics terms lists/dictionaries and output them to a spreadsheet for harmonization and contribution to (an authoritative) Helio dictionary. \n",
    "\n",
    "Input: a Heliophysics term\n",
    "Process: \n",
    "    look through the following glossaries for definitions and pull out all that exist:\n",
    "\n",
    "    - HELIO Ontology\n",
    "    - Heliophysics Event Knowledge Base\n",
    "    - NASA CCMC\n",
    "    - SWEET\n",
    "    - SPASE\n",
    "    - NASA Heliophysics Vocabulary\n",
    "    - Space Weather Glossary\n",
    "    - Space Weather Glossary (Second)\n",
    "    - ESA Space Weather Glossary (ESA)\n",
    "\n",
    "    (not yet applied:) identify similar terms to the input term\n",
    "\n",
    "\n",
    "Output: {term: definition1, definition2, etc.}\n",
    "\n",
    "\n",
    "\n",
    "NOTE this builds on 'add_definitions_to_terms.ipynb' \n"
   ]
  },
  {
   "cell_type": "code",
   "execution_count": 33,
   "id": "7fe3257d",
   "metadata": {},
   "outputs": [],
   "source": [
    "import os, sys, re\n",
    "import pandas as pd\n",
    "import numpy as np\n",
    "\n",
    "from glob import glob\n",
    "import json\n",
    "\n",
    "\n",
    "import csv\n"
   ]
  },
  {
   "cell_type": "code",
   "execution_count": 41,
   "id": "6a44cfe8",
   "metadata": {},
   "outputs": [],
   "source": [
    "def update_csv(csv_filename, term, column_names, entries):\n",
    "    # Ensure the CSV exists and has the right columns\n",
    "    file_exists = os.path.isfile(csv_filename)\n",
    "    \n",
    "    # Always include 'term' as the first column\n",
    "    full_columns = ['term'] + column_names\n",
    "    \n",
    "    if not file_exists:\n",
    "        # Create CSV with header\n",
    "        with open(csv_filename, mode='w', newline='', encoding='utf-8') as csvfile:\n",
    "            writer = csv.DictWriter(csvfile, fieldnames=full_columns)\n",
    "            writer.writeheader()\n",
    "\n",
    "    # Prepare a new row with empty cells\n",
    "    new_row = {col: '' for col in full_columns}\n",
    "    new_row['term'] = term  # Set the term value\n",
    "    \n",
    "    # Fill in the appropriate columns from the entries\n",
    "    for entry in entries:\n",
    "        if 'source:' in entry:\n",
    "            description, source_info = entry.split('source:', 1)\n",
    "            description = description.strip()\n",
    "            source_file = source_info.strip()\n",
    "            \n",
    "            # Match the column based on the source filename\n",
    "            matched = False\n",
    "            for col in column_names:\n",
    "                if source_file.startswith(col):\n",
    "                    new_row[col] = description\n",
    "                    matched = True\n",
    "                    break\n",
    "            if not matched:\n",
    "                print(f\"Warning: No matching column found for source '{source_file}'.\")\n",
    "    \n",
    "    # Append the new row\n",
    "    with open(csv_filename, mode='a', newline='', encoding='utf-8') as csvfile:\n",
    "        writer = csv.DictWriter(csvfile, fieldnames=full_columns)\n",
    "        writer.writerow(new_row)"
   ]
  },
  {
   "cell_type": "code",
   "execution_count": 35,
   "id": "35513a5c",
   "metadata": {},
   "outputs": [],
   "source": [
    "list_glossaries = ['HELIO Ontology',\n",
    "                   'Heliophysics Event Knowledge Base',\n",
    "                   'NASA CCMC',\n",
    "                   'SWEET',\n",
    "                   'SPASE',\n",
    "                   'NASA Heliophysics Vocabulary',\n",
    "                   'Space Weather Glossary',\n",
    "                   'Space Weather Glossary (Second)',\n",
    "                   'ESA Space Weather Glossary (ESA)']"
   ]
  },
  {
   "cell_type": "code",
   "execution_count": 36,
   "id": "34ad1b2f",
   "metadata": {},
   "outputs": [
    {
     "name": "stdout",
     "output_type": "stream",
     "text": [
      "working on HELIO Ontology.json...\n",
      "working on Heliophysics Events Knowledgebase.json...\n",
      "working on NASA CCMC.json...\n",
      "working on Semantic Web for Earth and Environment Technology Ontology.json...\n",
      "working on SPASE Dictionary.json...\n",
      "working on NASA Heliophysics Vocabulary.json...\n",
      "working on Space Weather Glossary.json...\n",
      "working on Space Weather Glossary (Second).json...\n",
      "working on ESA Space Weather Glossary.json...\n"
     ]
    },
    {
     "data": {
      "text/html": [
       "<div>\n",
       "<style scoped>\n",
       "    .dataframe tbody tr th:only-of-type {\n",
       "        vertical-align: middle;\n",
       "    }\n",
       "\n",
       "    .dataframe tbody tr th {\n",
       "        vertical-align: top;\n",
       "    }\n",
       "\n",
       "    .dataframe thead th {\n",
       "        text-align: right;\n",
       "    }\n",
       "</style>\n",
       "<table border=\"1\" class=\"dataframe\">\n",
       "  <thead>\n",
       "    <tr style=\"text-align: right;\">\n",
       "      <th></th>\n",
       "      <th>term</th>\n",
       "      <th>definition</th>\n",
       "      <th>type</th>\n",
       "    </tr>\n",
       "  </thead>\n",
       "  <tbody>\n",
       "    <tr>\n",
       "      <th>0</th>\n",
       "      <td>thing</td>\n",
       "      <td></td>\n",
       "      <td>HELIO Ontology.json</td>\n",
       "    </tr>\n",
       "    <tr>\n",
       "      <th>1</th>\n",
       "      <td>data resource</td>\n",
       "      <td></td>\n",
       "      <td>HELIO Ontology.json</td>\n",
       "    </tr>\n",
       "    <tr>\n",
       "      <th>2</th>\n",
       "      <td>service</td>\n",
       "      <td></td>\n",
       "      <td>HELIO Ontology.json</td>\n",
       "    </tr>\n",
       "    <tr>\n",
       "      <th>3</th>\n",
       "      <td>catalog</td>\n",
       "      <td>A tabular listing of events or observational n...</td>\n",
       "      <td>HELIO Ontology.json</td>\n",
       "    </tr>\n",
       "    <tr>\n",
       "      <th>4</th>\n",
       "      <td>record</td>\n",
       "      <td></td>\n",
       "      <td>HELIO Ontology.json</td>\n",
       "    </tr>\n",
       "    <tr>\n",
       "      <th>...</th>\n",
       "      <td>...</td>\n",
       "      <td>...</td>\n",
       "      <td>...</td>\n",
       "    </tr>\n",
       "    <tr>\n",
       "      <th>14945</th>\n",
       "      <td>spacecraft effects</td>\n",
       "      <td>Effects observed as a result of the interactio...</td>\n",
       "      <td>ESA Space Weather Glossary.json</td>\n",
       "    </tr>\n",
       "    <tr>\n",
       "      <th>14946</th>\n",
       "      <td>space weather</td>\n",
       "      <td>Space Weather is the physical and phenomenolog...</td>\n",
       "      <td>ESA Space Weather Glossary.json</td>\n",
       "    </tr>\n",
       "    <tr>\n",
       "      <th>14947</th>\n",
       "      <td>space weather event</td>\n",
       "      <td>A time-limited condition of the space environm...</td>\n",
       "      <td>ESA Space Weather Glossary.json</td>\n",
       "    </tr>\n",
       "    <tr>\n",
       "      <th>14948</th>\n",
       "      <td>susceptibility</td>\n",
       "      <td>The response of a material or substance to a c...</td>\n",
       "      <td>ESA Space Weather Glossary.json</td>\n",
       "    </tr>\n",
       "    <tr>\n",
       "      <th>14949</th>\n",
       "      <td>interplanetary shock</td>\n",
       "      <td>Interplanetary shocks are a type of collision-...</td>\n",
       "      <td>ESA Space Weather Glossary.json</td>\n",
       "    </tr>\n",
       "  </tbody>\n",
       "</table>\n",
       "<p>14950 rows × 3 columns</p>\n",
       "</div>"
      ],
      "text/plain": [
       "                       term  \\\n",
       "0                     thing   \n",
       "1             data resource   \n",
       "2                   service   \n",
       "3                   catalog   \n",
       "4                    record   \n",
       "...                     ...   \n",
       "14945    spacecraft effects   \n",
       "14946         space weather   \n",
       "14947   space weather event   \n",
       "14948        susceptibility   \n",
       "14949  interplanetary shock   \n",
       "\n",
       "                                              definition  \\\n",
       "0                                                          \n",
       "1                                                          \n",
       "2                                                          \n",
       "3      A tabular listing of events or observational n...   \n",
       "4                                                          \n",
       "...                                                  ...   \n",
       "14945  Effects observed as a result of the interactio...   \n",
       "14946  Space Weather is the physical and phenomenolog...   \n",
       "14947  A time-limited condition of the space environm...   \n",
       "14948  The response of a material or substance to a c...   \n",
       "14949  Interplanetary shocks are a type of collision-...   \n",
       "\n",
       "                                  type  \n",
       "0                  HELIO Ontology.json  \n",
       "1                  HELIO Ontology.json  \n",
       "2                  HELIO Ontology.json  \n",
       "3                  HELIO Ontology.json  \n",
       "4                  HELIO Ontology.json  \n",
       "...                                ...  \n",
       "14945  ESA Space Weather Glossary.json  \n",
       "14946  ESA Space Weather Glossary.json  \n",
       "14947  ESA Space Weather Glossary.json  \n",
       "14948  ESA Space Weather Glossary.json  \n",
       "14949  ESA Space Weather Glossary.json  \n",
       "\n",
       "[14950 rows x 3 columns]"
      ]
     },
     "execution_count": 36,
     "metadata": {},
     "output_type": "execute_result"
    }
   ],
   "source": [
    "glossaries_list = [\n",
    "     '/Users/ryanmc/Documents/NASA_FDL/2022/sdm-kg-nasa-2022/data/raw/SMDVocabulary/SupersetVocab/HELIO Ontology.json',\n",
    "     '/Users/ryanmc/Documents/NASA_FDL/2022/sdm-kg-nasa-2022/data/raw/SMDVocabulary/SupersetVocab/Heliophysics Events Knowledgebase.json',\n",
    "     '/Users/ryanmc/Documents/NASA_FDL/2022/sdm-kg-nasa-2022/data/raw/SMDVocabulary/SupersetVocab/NASA CCMC.json',\n",
    "     '/Users/ryanmc/Documents/NASA_FDL/2022/sdm-kg-nasa-2022/data/raw/SMDVocabulary/SupersetVocab/Semantic Web for Earth and Environment Technology Ontology.json',\n",
    "     '/Users/ryanmc/Documents/NASA_FDL/2022/sdm-kg-nasa-2022/data/raw/SMDVocabulary/SupersetVocab/SPASE Dictionary.json',\n",
    "     '/Users/ryanmc/Documents/NASA_FDL/2022/sdm-kg-nasa-2022/data/raw/SMDVocabulary/SupersetVocab/NASA Heliophysics Vocabulary.json',\n",
    "     '/Users/ryanmc/Documents/NASA_FDL/2022/sdm-kg-nasa-2022/data/raw/SMDVocabulary/SupersetVocab/Space Weather Glossary.json',\n",
    "     '/Users/ryanmc/Documents/NASA_FDL/2022/sdm-kg-nasa-2022/data/raw/SMDVocabulary/SupersetVocab/Space Weather Glossary (Second).json',\n",
    "     '/Users/ryanmc/Documents/NASA_FDL/2022/sdm-kg-nasa-2022/data/raw/SMDVocabulary/SupersetVocab/ESA Space Weather Glossary.json',\n",
    "]\n",
    "\n",
    "\n",
    "pd_compiled = pd.DataFrame(columns=['term','definition','source'])\n",
    "\n",
    "column_names = []\n",
    "\n",
    "terms_full = []\n",
    "definitions_full = []\n",
    "sources_full = []\n",
    "\n",
    "for g in glossaries_list:#[0:1]:\n",
    "    column_names.append(g[92:])\n",
    "    print('working on {}...'.format(column_names[-1]))\n",
    "    \n",
    "    \n",
    "    with open(g) as json_file:\n",
    "        content = json.load(json_file)\n",
    "        terms_loop = []\n",
    "        definitions_loop = []\n",
    "        sources_loop = []\n",
    "        for inx, term in enumerate(content[\"Terms\"]):\n",
    "            terms_loop.append(re.sub(r'([a-z](?=[A-Z])|[A-Z](?=[A-Z][a-z]))', r'\\1 ', term['Term']).lower())\n",
    "            definitions_loop.append(term['Definition'])\n",
    "        sources_loop = list(np.tile(str(g[92:]),(len(terms_loop),1)).flatten())\n",
    "    \n",
    "    # Add to full lists\n",
    "    terms_full = terms_full + terms_loop\n",
    "    definitions_full = definitions_full + definitions_loop\n",
    "    sources_full = sources_full + sources_loop\n",
    "    \n",
    "pd_full = pd.DataFrame({'term':terms_full,'definition':definitions_full,'type':sources_full})\n",
    "pd_full"
   ]
  },
  {
   "cell_type": "code",
   "execution_count": 37,
   "id": "435219d9",
   "metadata": {},
   "outputs": [
    {
     "name": "stdout",
     "output_type": "stream",
     "text": [
      "please enter a term to get defintions for: aurora\n"
     ]
    }
   ],
   "source": [
    "#INPUT a term\n",
    "term = input('please enter a term to get defintions for: ')"
   ]
  },
  {
   "cell_type": "code",
   "execution_count": 38,
   "id": "52e183e3",
   "metadata": {},
   "outputs": [],
   "source": [
    "idx = np.argwhere(pd_full['term'].values == term)"
   ]
  },
  {
   "cell_type": "code",
   "execution_count": 39,
   "id": "84340a83",
   "metadata": {},
   "outputs": [],
   "source": [
    "defs_loop = []\n",
    "for i in idx:\n",
    "#     print(pd_full.iloc[i])\n",
    "    if pd_full.iloc[i]['definition'].values:\n",
    "        defs_loop.append( pd_full.iloc[i]['definition'].values[0] + str('    source: ').format() + pd_full.iloc[i]['type'].values[0])\n"
   ]
  },
  {
   "cell_type": "code",
   "execution_count": 40,
   "id": "e0142fa9",
   "metadata": {},
   "outputs": [
    {
     "data": {
      "text/plain": [
       "[\"An atmospheric phenomenon consisting of bands of light caused by charged solar particles following the earth's magnetic lines of force. (spase)    source: HELIO Ontology.json\",\n",
       " 'transient displays of light, often displaying as moving curtains and rays, at high latitudes associated with geomagnetic disturbances    source: NASA CCMC.json',\n",
       " 'The sporadic radiant emission from the upper atmosphere over the middle and high latitudes.    source: Semantic Web for Earth and Environment Technology Ontology.json',\n",
       " \"An atmospheric phenomenon consisting of bandsof light caused by charged solar particles following the earth's magneticlines of force.    source: SPASE Dictionary.json\",\n",
       " \"An aurora is a natural display of light in the night sky that typically occurs in far northern and southern regions. Auroras occur when incoming charged particles from the sun strike oxygen and nitrogen some 60 to 200 miles up in Earth's atmosphere and release a flash of light and heat. Electrons and protons released by solar storms add to the number of solar particles, and can createght auroras at lower latitudes.    source: NASA Heliophysics Vocabulary.json\",\n",
       " 'A faint visual phenomenon associated with geomagnetic activity that is visible mainly in the high-latitude night sky. Aurorae occur within a band of latitudes known as the auroral oval, the location of which is dependent on geomagnetic activity. Aurorae are a result of collisions between atmospheric gases and precipitating charged particles (mostly electrons) guided by the geomagnetic field from the magnetotail. Each gas (oxygen, nitrogen molecules, and atoms) emits a particular color depending on the energy of the precipitating particles, and atmospheric composition varies with altitude. Since the faster precipitating particles penetrate deeper, certain auroral colors, originate preferentially from certain heights in the sky. The auroral altitude range is 80 to 1000 km, but typical aurorae are 100 to 250 km above the ground; the color of the typical aurora is yellow-green, from a specific transition of atomic oxygen. Auroral light from lower levels in the atmosphere is dominated by blue and red bands from molecular nitrogen and oxygen. Above 250 km, auroral light is characterized by a red spectral line of atomic oxygen.\\xa0 Aurorae in the Northern Hemisphere are called the aurora borealis or ”northern lights.” Aurorae in the Southern Hemisphere are called aurora australis. The patterns and forms of the aurora include quiescent arcs, rapidly moving rays, curtains, patches, and veils.    source: Space Weather Glossary.json']"
      ]
     },
     "execution_count": 40,
     "metadata": {},
     "output_type": "execute_result"
    }
   ],
   "source": [
    "defs_loop"
   ]
  },
  {
   "cell_type": "code",
   "execution_count": 23,
   "id": "ef4ddb36",
   "metadata": {},
   "outputs": [],
   "source": [
    "# NOT YET APPLIED: identify similar terms and attach their definitions with the similar term for later work in harmonizing\n",
    "\n"
   ]
  },
  {
   "cell_type": "code",
   "execution_count": 26,
   "id": "5e28e279",
   "metadata": {},
   "outputs": [
    {
     "data": {
      "text/plain": [
       "['HELIO Ontology.json',\n",
       " 'Heliophysics Events Knowledgebase.json',\n",
       " 'NASA CCMC.json',\n",
       " 'Semantic Web for Earth and Environment Technology Ontology.json',\n",
       " 'SPASE Dictionary.json',\n",
       " 'NASA Heliophysics Vocabulary.json',\n",
       " 'Space Weather Glossary.json',\n",
       " 'Space Weather Glossary (Second).json',\n",
       " 'ESA Space Weather Glossary.json']"
      ]
     },
     "execution_count": 26,
     "metadata": {},
     "output_type": "execute_result"
    }
   ],
   "source": [
    "column_names"
   ]
  },
  {
   "cell_type": "code",
   "execution_count": 42,
   "id": "855b7945",
   "metadata": {},
   "outputs": [],
   "source": [
    "# output to csv\n",
    "\n",
    "# Example usage\n",
    "csv_name = '/Users/ryanmc/Documents/Helio_ECIP/dev/Helio-KNOW/ADS_enrichment/Heliophysics_dictionary_harmonization.csv'\n",
    "\n",
    "update_csv(csv_name, term, column_names, defs_loop)\n"
   ]
  },
  {
   "cell_type": "code",
   "execution_count": null,
   "id": "e7508587",
   "metadata": {},
   "outputs": [],
   "source": []
  }
 ],
 "metadata": {
  "kernelspec": {
   "display_name": "Python 3 (ipykernel)",
   "language": "python",
   "name": "python3"
  },
  "language_info": {
   "codemirror_mode": {
    "name": "ipython",
    "version": 3
   },
   "file_extension": ".py",
   "mimetype": "text/x-python",
   "name": "python",
   "nbconvert_exporter": "python",
   "pygments_lexer": "ipython3",
   "version": "3.9.16"
  }
 },
 "nbformat": 4,
 "nbformat_minor": 5
}
