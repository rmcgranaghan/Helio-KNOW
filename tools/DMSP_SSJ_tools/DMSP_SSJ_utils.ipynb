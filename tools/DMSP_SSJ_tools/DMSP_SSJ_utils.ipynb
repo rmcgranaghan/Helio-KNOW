{
 "cells": [
  {
   "cell_type": "markdown",
   "metadata": {},
   "source": [
    "#### Library to work with DMSP SSJ CDF files"
   ]
  },
  {
   "cell_type": "code",
   "execution_count": 41,
   "metadata": {
    "ExecuteTime": {
     "end_time": "2021-08-02T13:30:40.284664Z",
     "start_time": "2021-08-02T13:30:40.281323Z"
    }
   },
   "outputs": [],
   "source": [
    "# Data structures\n",
    "import pandas as pd\n",
    "import numpy as np\n",
    "from spacepy import pycdf\n",
    "\n",
    "# General \n",
    "import os\n",
    "from os.path import isfile, join\n",
    "import sys\n",
    "import glob\n",
    "import datetime\n",
    "from random import *\n",
    "\n",
    "# Visualization\n",
    "import matplotlib.pyplot as plt\n",
    "from matplotlib.colors import LogNorm\n",
    "from matplotlib.gridspec import GridSpec\n",
    "\n"
   ]
  },
  {
   "cell_type": "code",
   "execution_count": 20,
   "metadata": {
    "ExecuteTime": {
     "end_time": "2021-08-02T13:17:24.477130Z",
     "start_time": "2021-08-02T13:17:24.465866Z"
    }
   },
   "outputs": [],
   "source": [
    "def dmsp_ssj_cdf_to_dataframe(directoryname,filename):\n",
    "    print('working on file = {}'.format(filename))\n",
    "    ds = pycdf.CDF(os.path.join(directoryname,filename))\n",
    "    \n",
    "    print('Variables in the file: ')\n",
    "    # See the variable names in the file\n",
    "    for i in ds:\n",
    "        print('variable name = {}'.format(i))\n",
    "    print('\\n\\n')\n",
    "    \n",
    "    \n",
    "    df = pd.DataFrame()\n",
    "    channel_energies = ds['CHANNEL_ENERGIES'][...]\n",
    "    df['datetime'] = pd.Series(ds['Epoch'][...])\n",
    "\n",
    "    for i in ds:\n",
    "        # DataFrame\n",
    "        if (i == 'SC_GEOCENTRIC_LAT'):\n",
    "            df[i] = pd.Series(ds[i][...])\n",
    "        elif (i == 'SC_GEOCENTRIC_LON'):\n",
    "            df[i] = pd.Series(ds[i][...])\n",
    "        elif (i == 'SC_GEOCENTRIC_R'):\n",
    "            df[i] = pd.Series(ds[i][...])\n",
    "        elif (i == 'SC_AACGM_LAT'):\n",
    "            df[i] = pd.Series(ds[i][...])\n",
    "        elif (i == 'SC_AACGM_LON'):\n",
    "            df[i] = pd.Series(ds[i][...])\n",
    "        elif (i == 'SC_AACGM_LTIME'):\n",
    "            df[i] = pd.Series(ds[i][...])\n",
    "        elif (i == 'ELE_DIFF_ENERGY_FLUX'):\n",
    "            for j in range(ds[i].shape[1]):\n",
    "                df['ELE_DIFF_ENERGY_FLUX: channel energy=' + str(channel_energies[j])] = pd.Series(ds[i][:,j])\n",
    "        elif (i == 'ELE_DIFF_ENERGY_FLUX_STD'):\n",
    "            for j in range(ds[i].shape[1]):\n",
    "                df['ELE_DIFF_ENERGY_FLUX_STD: channel energy=' + str(channel_energies[j])] = pd.Series(ds[i][:,j])\n",
    "        elif (i == 'ELE_TOTAL_ENERGY_FLUX'):\n",
    "            df[i] = pd.Series(ds[i][...])\n",
    "        elif (i == 'ELE_TOTAL_ENERGY_FLUX_STD'):\n",
    "            df[i] = pd.Series(ds[i][...])\n",
    "        elif (i == 'ELE_AVG_ENERGY'):\n",
    "            df[i] = pd.Series(ds[i][...])\n",
    "        elif (i == 'ELE_AVG_ENERGY_STD'):\n",
    "            df[i] = pd.Series(ds[i][...])\n",
    "        elif (i == 'AURORAL_REGION'):\n",
    "            df[i] = pd.Series(ds[i][...])\n",
    "        elif (i == 'AURORAL_BOUNDARY_FOM'):\n",
    "            df[i] = pd.Series(ds[i][...])\n",
    "        elif (i == 'ORBIT_INDEX'):\n",
    "            df[i] = pd.Series(ds[i][...])\n",
    "            \n",
    "    df = df.set_index('datetime')\n",
    "    df.index = pd.to_datetime(df.index)\n",
    "    \n",
    "    return df\n",
    "\n",
    "\n",
    "def nearest(items, pivot):\n",
    "    #return min(items, key=lambda x: abs(x - pivot))\n",
    "    return np.argmin(abs(items - pivot))\n",
    "\n"
   ]
  },
  {
   "cell_type": "code",
   "execution_count": 53,
   "metadata": {
    "ExecuteTime": {
     "end_time": "2021-08-02T14:15:50.801243Z",
     "start_time": "2021-08-02T14:15:50.784924Z"
    }
   },
   "outputs": [],
   "source": [
    "def plotting_ssj_time_range(df,dt_range):\n",
    "    \n",
    "    # Developing the plotting functions\n",
    "    %matplotlib inline\n",
    "\n",
    "    try:\n",
    "        df_plot = df.copy(deep=True)\n",
    "        df_plot = df_plot[ (df_plot.index > dt_range[0]) & (df_plot.index < dt_range[1]) ]\n",
    "    except: \n",
    "        print('invalid datetime bound passed')\n",
    "    #     return None\n",
    "\n",
    "    df_plot_idx_low = nearest(df_plot.index,dt_range[0])\n",
    "    df_plot_idx_high = nearest(df_plot.index,dt_range[1])\n",
    "    df_plot = df_plot[df_plot_idx_low:df_plot_idx_high]\n",
    "\n",
    "    df_plot_NH = df_plot.copy().loc[df_plot['SC_AACGM_LAT'] > 40.]\n",
    "    df_plot_SH = df_plot.copy().loc[df_plot['SC_AACGM_LAT'] < -40.]\n",
    "    df_plot_SH.loc[:,'SC_AACGM_LAT'] = df_plot_SH['SC_AACGM_LAT'].abs()\n",
    "\n",
    "\n",
    "    fig = plt.figure(figsize=(10,10))\n",
    "\n",
    "    gs = GridSpec(2,2, figure=fig)\n",
    "\n",
    "\n",
    "    ax1 = fig.add_subplot(gs[0, 0])\n",
    "    # ax1 = plt.subplot(221)\n",
    "    plt.scatter(df_plot_NH.index,df_plot_NH['ELE_TOTAL_ENERGY_FLUX'])\n",
    "    plt.yscale('log')\n",
    "    plt.grid(True)\n",
    "    plt.ylim([10**6,10**14])\n",
    "    ylabel_text = 'Northern Hemisphere\\nTotal Electron Energy Flux'\n",
    "    plt.ylabel(ylabel_text)\n",
    "    plt.grid(True)\n",
    "\n",
    "    ax2 = fig.add_subplot(gs[0, 1],polar=True)\n",
    "    # ax2 = plt.subplot(222,polar=True)\n",
    "    ctf = ax2.scatter(df_plot_NH['SC_AACGM_LTIME'] / 24. * (2*np.pi) - np.pi/2,\n",
    "                      90-(df_plot_NH['SC_AACGM_LAT']),\n",
    "                      c=df_plot_NH['ELE_TOTAL_ENERGY_FLUX'],\n",
    "                      alpha=0.5,\n",
    "                      norm=LogNorm()) \n",
    "    cbar = fig.colorbar(ctf,ax=ax2,)#ticks=[0,1,2,3])\n",
    "\n",
    "\n",
    "    ax3 = fig.add_subplot(gs[1, 0])\n",
    "    # ax3 = plt.subplot(223)\n",
    "    plt.scatter(df_plot_SH.index,df_plot_SH['ELE_TOTAL_ENERGY_FLUX'])\n",
    "    plt.yscale('log')\n",
    "    plt.grid(True)\n",
    "    plt.ylim([10**6,10**14])\n",
    "    ylabel_text = 'Southern Hemisphere\\nTotal Electron Energy Flux'\n",
    "    plt.ylabel(ylabel_text)\n",
    "    plt.grid(True)\n",
    "\n",
    "    ax4 = fig.add_subplot(gs[1, 1],polar=True)\n",
    "    # ax4 = plt.subplot(224,polar=True)\n",
    "    ctf = ax4.scatter(df_plot_SH['SC_AACGM_LTIME'] / 24. * (2*np.pi) - np.pi/2,\n",
    "                      90-(df_plot_SH['SC_AACGM_LAT']),\n",
    "                      c=df_plot_SH['ELE_TOTAL_ENERGY_FLUX'],\n",
    "                      alpha=0.5,\n",
    "                      norm=LogNorm()) \n",
    "    cbar = fig.colorbar(ctf,ax=ax4,)#ticks=[0,1,2,3])\n",
    "\n",
    "\n",
    "\n",
    "    # ax2 = plt.subplot(122,polar=True)\n",
    "    # ctf = ax2.scatter(np.pi/2 - df_plot_SH['SC_AACGM_LTIME'] / 24. * (2*np.pi),\n",
    "    #                   90-(df_plot_SH['SC_AACGM_LAT']),\n",
    "    #                   c=df_plot_SH['ELE_TOTAL_ENERGY_FLUX'],\n",
    "    #                   alpha=0.5,\n",
    "    #                   norm=LogNorm()) \n",
    "    # cbar = fig.colorbar(ctf,ax=ax2,)#ticks=[0,1,2,3])\n",
    "    # plt.title('Southern Hemisphere')\n",
    "\n",
    "    plt.show()\n",
    "\n",
    "\n"
   ]
  },
  {
   "cell_type": "code",
   "execution_count": null,
   "metadata": {},
   "outputs": [],
   "source": []
  },
  {
   "cell_type": "code",
   "execution_count": null,
   "metadata": {},
   "outputs": [],
   "source": []
  },
  {
   "cell_type": "code",
   "execution_count": null,
   "metadata": {},
   "outputs": [],
   "source": []
  },
  {
   "cell_type": "code",
   "execution_count": null,
   "metadata": {},
   "outputs": [],
   "source": []
  },
  {
   "cell_type": "code",
   "execution_count": 50,
   "metadata": {
    "ExecuteTime": {
     "end_time": "2021-08-02T13:42:11.809015Z",
     "start_time": "2021-08-02T13:42:11.807107Z"
    }
   },
   "outputs": [],
   "source": [
    "# ### Sample use script for SSJ reader\n",
    "# filedirectory = '/Users/ryanmcgranaghan/Documents/DMSPdata/data/'\n",
    "# filenames = ['dmsp-f16_ssj_precipitating-electrons-ions_20130317_v1.1.2.cdf']\n",
    "# df = dmsp_ssj_cdf_to_dataframe(filedirectory,filenames[0])\n",
    "\n",
    "# dt_range = [datetime.datetime(2013,3,17,12),\n",
    "#             datetime.datetime(2013,3,17,13)]\n",
    "# plotting_ssj_time_range(df,dt_range)"
   ]
  },
  {
   "cell_type": "code",
   "execution_count": null,
   "metadata": {},
   "outputs": [],
   "source": []
  },
  {
   "cell_type": "code",
   "execution_count": null,
   "metadata": {},
   "outputs": [],
   "source": []
  },
  {
   "cell_type": "code",
   "execution_count": null,
   "metadata": {},
   "outputs": [],
   "source": [
    "# Below was the trial scripting to develop the capabilities above"
   ]
  },
  {
   "cell_type": "code",
   "execution_count": 49,
   "metadata": {
    "ExecuteTime": {
     "end_time": "2021-08-02T13:37:41.182635Z",
     "start_time": "2021-08-02T13:37:41.180181Z"
    },
    "scrolled": true
   },
   "outputs": [],
   "source": [
    "# # filedirectory = '/Users/ryanmcgranaghan/Documents/DMSPdata/2015/'\n",
    "# # filenames = ['dmsp-f16_ssj_precipitating-electrons-ions_20150317_v1.1.3.cdf',\n",
    "# #              'dmsp-f17_ssj_precipitating-electrons-ions_20150317_v1.1.3.cdf',\n",
    "# #              'dmsp-f18_ssj_precipitating-electrons-ions_20150317_v1.1.3.cdf']\n",
    "# filedirectory = '/Users/ryanmcgranaghan/Documents/DMSPdata/data/'\n",
    "# filenames = ['dmsp-f16_ssj_precipitating-electrons-ions_20130317_v1.1.2.cdf',\n",
    "#              'dmsp-f17_ssj_precipitating-electrons-ions_20130317_v1.1.2.cdf',\n",
    "#              'dmsp-f18_ssj_precipitating-electrons-ions_20130317_v1.1.2.cdf']\n",
    "\n",
    "# ctr = 0\n",
    "# for f in filenames:\n",
    "#     if ctr == 0:\n",
    "# #         print('working on file {}'.format(f))\n",
    "#         df16 = dmsp_ssj_cdf_to_dataframe(filedirectory,f)\n",
    "#     elif ctr == 1:\n",
    "# #         print('working on file {}'.format(f))\n",
    "#         df17 = dmsp_ssj_cdf_to_dataframe(filedirectory,f)\n",
    "#     elif ctr == 2:\n",
    "# #         print('working on file {}'.format(f))\n",
    "#         df18 = dmsp_ssj_cdf_to_dataframe(filedirectory,f)\n",
    "    \n",
    "#     ctr += 1\n"
   ]
  },
  {
   "cell_type": "code",
   "execution_count": 36,
   "metadata": {
    "ExecuteTime": {
     "end_time": "2021-08-02T13:22:17.989788Z",
     "start_time": "2021-08-02T13:22:17.975482Z"
    }
   },
   "outputs": [],
   "source": [
    "\n",
    "# dt_low = datetime.datetime(2013,3,17,12)\n",
    "# dt_high = datetime.datetime(2013,3,17,13)\n",
    "\n",
    "# df_plot = df16.copy(deep=True)\n",
    "# df_plot = df_plot[ (df_plot.index > dt_low) & (df_plot.index < dt_high) ]\n"
   ]
  },
  {
   "cell_type": "code",
   "execution_count": 48,
   "metadata": {
    "ExecuteTime": {
     "end_time": "2021-08-02T13:37:38.239274Z",
     "start_time": "2021-08-02T13:37:38.236137Z"
    }
   },
   "outputs": [],
   "source": [
    "# # Developing the plotting functions\n",
    "# %matplotlib inline\n",
    "\n",
    "# try:\n",
    "#     df_plot = df17.copy(deep=True)\n",
    "#     df_plot = df_plot[ (df_plot.index > dt_low) & (df_plot.index < dt_high) ]\n",
    "# except: \n",
    "#     print('invalid datetime bound passed')\n",
    "# #     return None\n",
    "    \n",
    "# df_plot_idx_low = nearest(df_plot.index,dt_low)\n",
    "# df_plot_idx_high = nearest(df_plot.index,dt_high)\n",
    "# df_plot = df_plot[df_plot_idx_low:df_plot_idx_high]\n",
    "\n",
    "# df_plot_NH = df_plot.copy().loc[df_plot['SC_AACGM_LAT'] > 40.]\n",
    "# df_plot_SH = df_plot.copy().loc[df_plot['SC_AACGM_LAT'] < -40.]\n",
    "# df_plot_SH.loc[:,'SC_AACGM_LAT'] = df_plot_SH['SC_AACGM_LAT'].abs()\n",
    "\n",
    "\n",
    "# fig = plt.figure(figsize=(10,10))\n",
    "\n",
    "# gs = GridSpec(2,2, figure=fig)\n",
    "\n",
    "\n",
    "# ax1 = fig.add_subplot(gs[0, 0])\n",
    "# # ax1 = plt.subplot(221)\n",
    "# plt.scatter(df_plot_NH.index,df_plot_NH['ELE_TOTAL_ENERGY_FLUX'])\n",
    "# plt.yscale('log')\n",
    "# plt.grid(True)\n",
    "# plt.ylim([10**6,10**14])\n",
    "# ylabel_text = 'Northern Hemisphere\\nTotal Electron Energy Flux'\n",
    "# plt.ylabel(ylabel_text)\n",
    "# plt.grid(True)\n",
    "\n",
    "# ax2 = fig.add_subplot(gs[0, 1],polar=True)\n",
    "# # ax2 = plt.subplot(222,polar=True)\n",
    "# ctf = ax2.scatter(df_plot_NH['SC_AACGM_LTIME'] / 24. * (2*np.pi) - np.pi/2,\n",
    "#                   90-(df_plot_NH['SC_AACGM_LAT']),\n",
    "#                   c=df_plot_NH['ELE_TOTAL_ENERGY_FLUX'],\n",
    "#                   alpha=0.5,\n",
    "#                   norm=LogNorm()) \n",
    "# cbar = fig.colorbar(ctf,ax=ax2,)#ticks=[0,1,2,3])\n",
    "\n",
    "\n",
    "# ax3 = fig.add_subplot(gs[1, 0])\n",
    "# # ax3 = plt.subplot(223)\n",
    "# plt.scatter(df_plot_SH.index,df_plot_SH['ELE_TOTAL_ENERGY_FLUX'])\n",
    "# plt.yscale('log')\n",
    "# plt.grid(True)\n",
    "# plt.ylim([10**6,10**14])\n",
    "# ylabel_text = 'Southern Hemisphere\\nTotal Electron Energy Flux'\n",
    "# plt.ylabel(ylabel_text)\n",
    "# plt.grid(True)\n",
    "\n",
    "# ax4 = fig.add_subplot(gs[1, 1],polar=True)\n",
    "# # ax4 = plt.subplot(224,polar=True)\n",
    "# ctf = ax4.scatter(df_plot_SH['SC_AACGM_LTIME'] / 24. * (2*np.pi) - np.pi/2,\n",
    "#                   90-(df_plot_SH['SC_AACGM_LAT']),\n",
    "#                   c=df_plot_SH['ELE_TOTAL_ENERGY_FLUX'],\n",
    "#                   alpha=0.5,\n",
    "#                   norm=LogNorm()) \n",
    "# cbar = fig.colorbar(ctf,ax=ax4,)#ticks=[0,1,2,3])\n",
    "\n",
    "\n",
    "\n",
    "# # ax2 = plt.subplot(122,polar=True)\n",
    "# # ctf = ax2.scatter(np.pi/2 - df_plot_SH['SC_AACGM_LTIME'] / 24. * (2*np.pi),\n",
    "# #                   90-(df_plot_SH['SC_AACGM_LAT']),\n",
    "# #                   c=df_plot_SH['ELE_TOTAL_ENERGY_FLUX'],\n",
    "# #                   alpha=0.5,\n",
    "# #                   norm=LogNorm()) \n",
    "# # cbar = fig.colorbar(ctf,ax=ax2,)#ticks=[0,1,2,3])\n",
    "# # plt.title('Southern Hemisphere')\n",
    "\n"
   ]
  },
  {
   "cell_type": "code",
   "execution_count": null,
   "metadata": {},
   "outputs": [],
   "source": []
  }
 ],
 "metadata": {
  "kernelspec": {
   "display_name": "Python 3",
   "language": "python",
   "name": "python3"
  },
  "language_info": {
   "codemirror_mode": {
    "name": "ipython",
    "version": 3
   },
   "file_extension": ".py",
   "mimetype": "text/x-python",
   "name": "python",
   "nbconvert_exporter": "python",
   "pygments_lexer": "ipython3",
   "version": "3.9.2"
  }
 },
 "nbformat": 4,
 "nbformat_minor": 2
}
