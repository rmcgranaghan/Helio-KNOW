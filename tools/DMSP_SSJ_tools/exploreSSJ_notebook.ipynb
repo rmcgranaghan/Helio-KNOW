{
 "cells": [
  {
   "cell_type": "code",
   "execution_count": 7,
   "metadata": {
    "ExecuteTime": {
     "end_time": "2021-04-21T17:06:14.968976Z",
     "start_time": "2021-04-21T17:06:14.962194Z"
    },
    "scrolled": true
   },
   "outputs": [
    {
     "ename": "ModuleNotFoundError",
     "evalue": "No module named 'spacepy'",
     "output_type": "error",
     "traceback": [
      "\u001b[0;31m---------------------------------------------------------------------------\u001b[0m",
      "\u001b[0;31mModuleNotFoundError\u001b[0m                       Traceback (most recent call last)",
      "\u001b[0;32m<ipython-input-7-436d3ab365cf>\u001b[0m in \u001b[0;36m<module>\u001b[0;34m\u001b[0m\n\u001b[1;32m      1\u001b[0m \u001b[0;32mimport\u001b[0m \u001b[0mnumpy\u001b[0m \u001b[0;32mas\u001b[0m \u001b[0mnp\u001b[0m\u001b[0;34m\u001b[0m\u001b[0;34m\u001b[0m\u001b[0m\n\u001b[1;32m      2\u001b[0m \u001b[0;31m# import xarray as xr\u001b[0m\u001b[0;34m\u001b[0m\u001b[0;34m\u001b[0m\u001b[0;34m\u001b[0m\u001b[0m\n\u001b[0;32m----> 3\u001b[0;31m \u001b[0;32mfrom\u001b[0m \u001b[0mspacepy\u001b[0m \u001b[0;32mimport\u001b[0m \u001b[0mpycdf\u001b[0m\u001b[0;34m\u001b[0m\u001b[0;34m\u001b[0m\u001b[0m\n\u001b[0m\u001b[1;32m      4\u001b[0m \u001b[0;34m\u001b[0m\u001b[0m\n\u001b[1;32m      5\u001b[0m \u001b[0;32mimport\u001b[0m \u001b[0mpandas\u001b[0m \u001b[0;32mas\u001b[0m \u001b[0mpd\u001b[0m\u001b[0;34m\u001b[0m\u001b[0;34m\u001b[0m\u001b[0m\n",
      "\u001b[0;31mModuleNotFoundError\u001b[0m: No module named 'spacepy'"
     ]
    }
   ],
   "source": [
    "import numpy as np\n",
    "# import xarray as xr\n",
    "from spacepy import pycdf\n",
    "\n",
    "import pandas as pd\n",
    "\n",
    "# import hvplot.xarray\n",
    "import matplotlib.pyplot as plt\n",
    "from matplotlib import colors, ticker, cm\n",
    "\n",
    "import os, sys\n",
    "\n"
   ]
  },
  {
   "cell_type": "code",
   "execution_count": 2,
   "metadata": {},
   "outputs": [],
   "source": [
    "# Identify data location\n",
    "# directory = '/Volumes/mcgdrive/DMSPdata_v1_1_0/f16/2010/01'\n",
    "directory = '/Users/ryanmcgranaghan/Desktop'\n",
    "file = 'dmsp-f16_ssj_precipitating-electrons-ions_20100131_v1.1.0.cdf'\n",
    "\n",
    "os.path.exists(os.path.join(directory,file))\n",
    "\n",
    "# Load data\n",
    "ds = pycdf.CDF(os.path.join(directory,file)) # with spacepy + CDF\n",
    "# ds = xr.open_dataset(os.path.join(directory,file)) # with xarray (doesn't work with .cdf)\n"
   ]
  },
  {
   "cell_type": "code",
   "execution_count": 3,
   "metadata": {},
   "outputs": [
    {
     "name": "stdout",
     "output_type": "stream",
     "text": [
      "CHANNEL_ENERGIES: CDF_FLOAT [19] NRV\n",
      "ELE_AVG_ENERGY: CDF_FLOAT [86400]\n",
      "ELE_AVG_ENERGY_STD: CDF_FLOAT [86400]\n",
      "ELE_COUNTS_BKG: CDF_FLOAT [86400, 19]\n",
      "ELE_COUNTS_OBS: CDF_FLOAT [86400, 19]\n",
      "ELE_DIFF_ENERGY_FLUX: CDF_FLOAT [86400, 19]\n",
      "ELE_DIFF_ENERGY_FLUX_STD: CDF_FLOAT [86400, 19]\n",
      "ELE_GEOMETRIC: CDF_DOUBLE [19] NRV\n",
      "ELE_TOTAL_ENERGY_FLUX: CDF_FLOAT [86400]\n",
      "ELE_TOTAL_ENERGY_FLUX_STD: CDF_FLOAT [86400]\n",
      "Epoch: CDF_EPOCH [86400]\n",
      "ION_AVG_ENERGY: CDF_FLOAT [86400]\n",
      "ION_AVG_ENERGY_STD: CDF_FLOAT [86400]\n",
      "ION_COUNTS_BKG: CDF_FLOAT [86400, 19]\n",
      "ION_COUNTS_OBS: CDF_FLOAT [86400, 19]\n",
      "ION_DIFF_ENERGY_FLUX: CDF_FLOAT [86400, 19]\n",
      "ION_DIFF_ENERGY_FLUX_STD: CDF_FLOAT [86400, 19]\n",
      "ION_GEOMETRIC: CDF_DOUBLE [19] NRV\n",
      "ION_TOTAL_ENERGY_FLUX: CDF_FLOAT [86400]\n",
      "ION_TOTAL_ENERGY_FLUX_STD: CDF_FLOAT [86400]\n",
      "SC_AACGM_LAT: CDF_DOUBLE [86400]\n",
      "SC_AACGM_LON: CDF_DOUBLE [86400]\n",
      "SC_AACGM_LTIME: CDF_DOUBLE [86400]\n",
      "SC_ECI: CDF_DOUBLE [86400, 3]\n",
      "SC_ECI_LABEL: CDF_CHAR*5 [3] NRV\n",
      "SC_GEOCENTRIC_LAT: CDF_DOUBLE [86400]\n",
      "SC_GEOCENTRIC_LON: CDF_DOUBLE [86400]\n",
      "SC_GEOCENTRIC_R: CDF_DOUBLE [86400]\n"
     ]
    }
   ],
   "source": [
    "print(ds)"
   ]
  },
  {
   "cell_type": "code",
   "execution_count": 4,
   "metadata": {},
   "outputs": [
    {
     "name": "stdout",
     "output_type": "stream",
     "text": [
      "      test\n",
      "   test   \n",
      "3.14\n"
     ]
    }
   ],
   "source": [
    "print('{:>10}'.format('test'))\n",
    "print('{:^10}'.format('test'))\n",
    "print('{:03.2f}'.format(3.1415296))\n"
   ]
  },
  {
   "cell_type": "code",
   "execution_count": 5,
   "metadata": {},
   "outputs": [
    {
     "name": "stdout",
     "output_type": "stream",
     "text": [
      "[30000. 20400. 13900.  9450.  6460.  4400.  3000.  2040.  1392.   949.\n",
      "   646.   440.   300.   204.   139.    95.    65.    44.    30.]\n"
     ]
    }
   ],
   "source": [
    "channel_energies = ds['CHANNEL_ENERGIES'][...]\n",
    "print(channel_energies)"
   ]
  },
  {
   "cell_type": "code",
   "execution_count": 8,
   "metadata": {},
   "outputs": [
    {
     "name": "stdout",
     "output_type": "stream",
     "text": [
      "key = Epoch\n",
      "shape of data = (86400,)\n",
      "\n",
      "\n",
      "key = SC_ECI\n",
      "shape of data = (86400, 3)\n",
      "\n",
      "\n",
      "key = SC_ECI_LABEL\n",
      "shape of data = (3,)\n",
      "\n",
      "\n",
      "key = SC_GEOCENTRIC_LAT\n",
      "shape of data = (86400,)\n",
      "\n",
      "\n",
      "key = SC_GEOCENTRIC_LON\n",
      "shape of data = (86400,)\n",
      "\n",
      "\n",
      "key = SC_GEOCENTRIC_R\n",
      "shape of data = (86400,)\n",
      "\n",
      "\n",
      "key = SC_AACGM_LAT\n",
      "shape of data = (86400,)\n",
      "\n",
      "\n",
      "key = SC_AACGM_LON\n",
      "shape of data = (86400,)\n",
      "\n",
      "\n",
      "key = SC_AACGM_LTIME\n",
      "shape of data = (86400,)\n",
      "\n",
      "\n",
      "key = CHANNEL_ENERGIES\n",
      "shape of data = (19,)\n",
      "\n",
      "\n",
      "key = ELE_COUNTS_OBS\n",
      "shape of data = (86400, 19)\n",
      "\n",
      "\n",
      "key = ELE_COUNTS_BKG\n",
      "shape of data = (86400, 19)\n",
      "\n",
      "\n",
      "key = ELE_GEOMETRIC\n",
      "shape of data = (19,)\n",
      "\n",
      "\n",
      "key = ELE_DIFF_ENERGY_FLUX\n",
      "shape of data = (86400, 19)\n",
      "\n",
      "\n",
      "key = ELE_DIFF_ENERGY_FLUX_STD\n",
      "shape of data = (86400, 19)\n",
      "\n",
      "\n",
      "key = ELE_TOTAL_ENERGY_FLUX\n",
      "shape of data = (86400,)\n",
      "\n",
      "\n",
      "key = ELE_TOTAL_ENERGY_FLUX_STD\n",
      "shape of data = (86400,)\n",
      "\n",
      "\n",
      "key = ELE_AVG_ENERGY\n",
      "shape of data = (86400,)\n",
      "\n",
      "\n",
      "key = ELE_AVG_ENERGY_STD\n",
      "shape of data = (86400,)\n",
      "\n",
      "\n",
      "key = ION_COUNTS_OBS\n",
      "shape of data = (86400, 19)\n",
      "\n",
      "\n",
      "key = ION_COUNTS_BKG\n",
      "shape of data = (86400, 19)\n",
      "\n",
      "\n",
      "key = ION_GEOMETRIC\n",
      "shape of data = (19,)\n",
      "\n",
      "\n",
      "key = ION_DIFF_ENERGY_FLUX\n",
      "shape of data = (86400, 19)\n",
      "\n",
      "\n",
      "key = ION_DIFF_ENERGY_FLUX_STD\n",
      "shape of data = (86400, 19)\n",
      "\n",
      "\n",
      "key = ION_TOTAL_ENERGY_FLUX\n",
      "shape of data = (86400,)\n",
      "\n",
      "\n",
      "key = ION_TOTAL_ENERGY_FLUX_STD\n",
      "shape of data = (86400,)\n",
      "\n",
      "\n",
      "key = ION_AVG_ENERGY\n",
      "shape of data = (86400,)\n",
      "\n",
      "\n",
      "key = ION_AVG_ENERGY_STD\n",
      "shape of data = (86400,)\n",
      "\n",
      "\n"
     ]
    }
   ],
   "source": [
    "# Create DataFrame and xarray from CDF data\n",
    "\n",
    "df = pd.DataFrame()\n",
    "df['datetime'] = pd.Series(ds['Epoch'][...])\n",
    "\n",
    "for i in ds:\n",
    "    print('key = {}'.format(i))\n",
    "    print('shape of data = {}'.format(ds[i].shape))\n",
    "    print('')\n",
    "\n",
    "    # DataFrame\n",
    "    if (i == 'SC_GEOCENTRIC_LAT'):\n",
    "        df[i] = pd.Series(ds[i][...])\n",
    "    elif (i == 'SC_GEOCENTRIC_LON'):\n",
    "        df[i] = pd.Series(ds[i][...])\n",
    "    elif (i == 'SC_GEOCENTRIC_R'):\n",
    "        df[i] = pd.Series(ds[i][...])\n",
    "    elif (i == 'SC_AACGM_LAT'):\n",
    "        df[i] = pd.Series(ds[i][...])\n",
    "    elif (i == 'SC_AACGM_LON'):\n",
    "        df[i] = pd.Series(ds[i][...])\n",
    "    elif (i == 'SC_AACGM_LTIME'):\n",
    "        df[i] = pd.Series(ds[i][...])\n",
    "    elif (i == 'ELE_DIFF_ENERGY_FLUX'):\n",
    "        for j in range(ds[i].shape[1]):\n",
    "            df['ELE_DIFF_ENERGY_FLUX: channel energy=' + str(channel_energies[j])] = pd.Series(ds[i][:,j])\n",
    "    elif (i == 'ELE_DIFF_ENERGY_FLUX_STD'):\n",
    "        for j in range(ds[i].shape[1]):\n",
    "            df['ELE_DIFF_ENERGY_FLUX_STD: channel energy=' + str(channel_energies[j])] = pd.Series(ds[i][:,j])\n",
    "    elif (i == 'ELE_TOTAL_ENERGY_FLUX'):\n",
    "        df[i] = pd.Series(ds[i][...])\n",
    "    elif (i == 'ELE_TOTAL_ENERGY_FLUX_STD'):\n",
    "        df[i] = pd.Series(ds[i][...])\n",
    "    elif (i == 'ELE_AVG_ENERGY'):\n",
    "        df[i] = pd.Series(ds[i][...])\n",
    "    elif (i == 'ELE_AVG_ENERGY_STD'):\n",
    "        df[i] = pd.Series(ds[i][...])\n",
    "        \n",
    "    print('')\n",
    "        \n",
    "    # xarray\n",
    "#     if np.size(ds[i].shape) > 1:\n",
    "\n",
    "#         for j in range(ds[i].shape[1]):\n",
    "#             key_temp = i+'{:02.0f}'.format(j)\n",
    "#             print('     sub key = {}'.format(key_temp))\n",
    "#             # Save data as xarray (with dimensions and coordinates)"
   ]
  },
  {
   "cell_type": "code",
   "execution_count": 9,
   "metadata": {},
   "outputs": [
    {
     "data": {
      "text/html": [
       "<div>\n",
       "<style scoped>\n",
       "    .dataframe tbody tr th:only-of-type {\n",
       "        vertical-align: middle;\n",
       "    }\n",
       "\n",
       "    .dataframe tbody tr th {\n",
       "        vertical-align: top;\n",
       "    }\n",
       "\n",
       "    .dataframe thead th {\n",
       "        text-align: right;\n",
       "    }\n",
       "</style>\n",
       "<table border=\"1\" class=\"dataframe\">\n",
       "  <thead>\n",
       "    <tr style=\"text-align: right;\">\n",
       "      <th></th>\n",
       "      <th>datetime</th>\n",
       "      <th>SC_GEOCENTRIC_LAT</th>\n",
       "      <th>SC_GEOCENTRIC_LON</th>\n",
       "      <th>SC_GEOCENTRIC_R</th>\n",
       "      <th>SC_AACGM_LAT</th>\n",
       "      <th>SC_AACGM_LON</th>\n",
       "      <th>SC_AACGM_LTIME</th>\n",
       "      <th>ELE_DIFF_ENERGY_FLUX: channel energy=30000.0</th>\n",
       "      <th>ELE_DIFF_ENERGY_FLUX: channel energy=20400.0</th>\n",
       "      <th>ELE_DIFF_ENERGY_FLUX: channel energy=13900.0</th>\n",
       "      <th>...</th>\n",
       "      <th>ELE_DIFF_ENERGY_FLUX_STD: channel energy=204.0</th>\n",
       "      <th>ELE_DIFF_ENERGY_FLUX_STD: channel energy=139.0</th>\n",
       "      <th>ELE_DIFF_ENERGY_FLUX_STD: channel energy=95.0</th>\n",
       "      <th>ELE_DIFF_ENERGY_FLUX_STD: channel energy=65.0</th>\n",
       "      <th>ELE_DIFF_ENERGY_FLUX_STD: channel energy=44.0</th>\n",
       "      <th>ELE_DIFF_ENERGY_FLUX_STD: channel energy=30.0</th>\n",
       "      <th>ELE_TOTAL_ENERGY_FLUX</th>\n",
       "      <th>ELE_TOTAL_ENERGY_FLUX_STD</th>\n",
       "      <th>ELE_AVG_ENERGY</th>\n",
       "      <th>ELE_AVG_ENERGY_STD</th>\n",
       "    </tr>\n",
       "  </thead>\n",
       "  <tbody>\n",
       "    <tr>\n",
       "      <th>0</th>\n",
       "      <td>2010-01-31 00:00:00</td>\n",
       "      <td>-57.266228</td>\n",
       "      <td>93.910564</td>\n",
       "      <td>7228.487161</td>\n",
       "      <td>-70.866027</td>\n",
       "      <td>148.180405</td>\n",
       "      <td>4.557747</td>\n",
       "      <td>0.0</td>\n",
       "      <td>510561.21875</td>\n",
       "      <td>1.339513e+06</td>\n",
       "      <td>...</td>\n",
       "      <td>0.256205</td>\n",
       "      <td>0.272915</td>\n",
       "      <td>0.296005</td>\n",
       "      <td>0.320156</td>\n",
       "      <td>0.224781</td>\n",
       "      <td>0.217732</td>\n",
       "      <td>1.073550e+11</td>\n",
       "      <td>0.091754</td>\n",
       "      <td>1263.168457</td>\n",
       "      <td>0.091779</td>\n",
       "    </tr>\n",
       "    <tr>\n",
       "      <th>1</th>\n",
       "      <td>2010-01-31 00:00:01</td>\n",
       "      <td>-57.322730</td>\n",
       "      <td>93.876111</td>\n",
       "      <td>7228.490093</td>\n",
       "      <td>-70.911881</td>\n",
       "      <td>148.066941</td>\n",
       "      <td>4.550466</td>\n",
       "      <td>0.0</td>\n",
       "      <td>0.00000</td>\n",
       "      <td>0.000000e+00</td>\n",
       "      <td>...</td>\n",
       "      <td>0.268809</td>\n",
       "      <td>0.238640</td>\n",
       "      <td>0.228141</td>\n",
       "      <td>0.216779</td>\n",
       "      <td>0.207000</td>\n",
       "      <td>0.210545</td>\n",
       "      <td>2.400544e+10</td>\n",
       "      <td>0.097196</td>\n",
       "      <td>206.250397</td>\n",
       "      <td>0.097240</td>\n",
       "    </tr>\n",
       "    <tr>\n",
       "      <th>2</th>\n",
       "      <td>2010-01-31 00:00:02</td>\n",
       "      <td>-57.379225</td>\n",
       "      <td>93.841563</td>\n",
       "      <td>7228.493027</td>\n",
       "      <td>-70.957639</td>\n",
       "      <td>147.952958</td>\n",
       "      <td>4.543149</td>\n",
       "      <td>0.0</td>\n",
       "      <td>0.00000</td>\n",
       "      <td>0.000000e+00</td>\n",
       "      <td>...</td>\n",
       "      <td>0.275162</td>\n",
       "      <td>0.326599</td>\n",
       "      <td>0.326599</td>\n",
       "      <td>0.275162</td>\n",
       "      <td>0.351188</td>\n",
       "      <td>0.351188</td>\n",
       "      <td>8.597387e+09</td>\n",
       "      <td>0.138842</td>\n",
       "      <td>549.445435</td>\n",
       "      <td>0.138855</td>\n",
       "    </tr>\n",
       "    <tr>\n",
       "      <th>3</th>\n",
       "      <td>2010-01-31 00:00:03</td>\n",
       "      <td>-57.435715</td>\n",
       "      <td>93.806921</td>\n",
       "      <td>7228.495963</td>\n",
       "      <td>-71.003365</td>\n",
       "      <td>147.838547</td>\n",
       "      <td>4.535805</td>\n",
       "      <td>0.0</td>\n",
       "      <td>0.00000</td>\n",
       "      <td>0.000000e+00</td>\n",
       "      <td>...</td>\n",
       "      <td>0.275162</td>\n",
       "      <td>0.388730</td>\n",
       "      <td>0.427618</td>\n",
       "      <td>0.388730</td>\n",
       "      <td>0.351188</td>\n",
       "      <td>0.489898</td>\n",
       "      <td>7.399737e+09</td>\n",
       "      <td>0.145373</td>\n",
       "      <td>651.266235</td>\n",
       "      <td>0.145382</td>\n",
       "    </tr>\n",
       "    <tr>\n",
       "      <th>4</th>\n",
       "      <td>2010-01-31 00:00:04</td>\n",
       "      <td>-57.492195</td>\n",
       "      <td>93.772186</td>\n",
       "      <td>7228.498900</td>\n",
       "      <td>-71.048978</td>\n",
       "      <td>147.723679</td>\n",
       "      <td>4.528429</td>\n",
       "      <td>0.0</td>\n",
       "      <td>0.00000</td>\n",
       "      <td>2.232522e+05</td>\n",
       "      <td>...</td>\n",
       "      <td>0.282843</td>\n",
       "      <td>0.275162</td>\n",
       "      <td>0.265147</td>\n",
       "      <td>0.268809</td>\n",
       "      <td>0.211107</td>\n",
       "      <td>0.212434</td>\n",
       "      <td>1.398481e+10</td>\n",
       "      <td>0.157331</td>\n",
       "      <td>191.756180</td>\n",
       "      <td>0.157375</td>\n",
       "    </tr>\n",
       "  </tbody>\n",
       "</table>\n",
       "<p>5 rows × 49 columns</p>\n",
       "</div>"
      ],
      "text/plain": [
       "             datetime  SC_GEOCENTRIC_LAT  SC_GEOCENTRIC_LON  SC_GEOCENTRIC_R  \\\n",
       "0 2010-01-31 00:00:00         -57.266228          93.910564      7228.487161   \n",
       "1 2010-01-31 00:00:01         -57.322730          93.876111      7228.490093   \n",
       "2 2010-01-31 00:00:02         -57.379225          93.841563      7228.493027   \n",
       "3 2010-01-31 00:00:03         -57.435715          93.806921      7228.495963   \n",
       "4 2010-01-31 00:00:04         -57.492195          93.772186      7228.498900   \n",
       "\n",
       "   SC_AACGM_LAT  SC_AACGM_LON  SC_AACGM_LTIME  \\\n",
       "0    -70.866027    148.180405        4.557747   \n",
       "1    -70.911881    148.066941        4.550466   \n",
       "2    -70.957639    147.952958        4.543149   \n",
       "3    -71.003365    147.838547        4.535805   \n",
       "4    -71.048978    147.723679        4.528429   \n",
       "\n",
       "   ELE_DIFF_ENERGY_FLUX: channel energy=30000.0  \\\n",
       "0                                           0.0   \n",
       "1                                           0.0   \n",
       "2                                           0.0   \n",
       "3                                           0.0   \n",
       "4                                           0.0   \n",
       "\n",
       "   ELE_DIFF_ENERGY_FLUX: channel energy=20400.0  \\\n",
       "0                                  510561.21875   \n",
       "1                                       0.00000   \n",
       "2                                       0.00000   \n",
       "3                                       0.00000   \n",
       "4                                       0.00000   \n",
       "\n",
       "   ELE_DIFF_ENERGY_FLUX: channel energy=13900.0  ...  \\\n",
       "0                                  1.339513e+06  ...   \n",
       "1                                  0.000000e+00  ...   \n",
       "2                                  0.000000e+00  ...   \n",
       "3                                  0.000000e+00  ...   \n",
       "4                                  2.232522e+05  ...   \n",
       "\n",
       "   ELE_DIFF_ENERGY_FLUX_STD: channel energy=204.0  \\\n",
       "0                                        0.256205   \n",
       "1                                        0.268809   \n",
       "2                                        0.275162   \n",
       "3                                        0.275162   \n",
       "4                                        0.282843   \n",
       "\n",
       "   ELE_DIFF_ENERGY_FLUX_STD: channel energy=139.0  \\\n",
       "0                                        0.272915   \n",
       "1                                        0.238640   \n",
       "2                                        0.326599   \n",
       "3                                        0.388730   \n",
       "4                                        0.275162   \n",
       "\n",
       "   ELE_DIFF_ENERGY_FLUX_STD: channel energy=95.0  \\\n",
       "0                                       0.296005   \n",
       "1                                       0.228141   \n",
       "2                                       0.326599   \n",
       "3                                       0.427618   \n",
       "4                                       0.265147   \n",
       "\n",
       "   ELE_DIFF_ENERGY_FLUX_STD: channel energy=65.0  \\\n",
       "0                                       0.320156   \n",
       "1                                       0.216779   \n",
       "2                                       0.275162   \n",
       "3                                       0.388730   \n",
       "4                                       0.268809   \n",
       "\n",
       "   ELE_DIFF_ENERGY_FLUX_STD: channel energy=44.0  \\\n",
       "0                                       0.224781   \n",
       "1                                       0.207000   \n",
       "2                                       0.351188   \n",
       "3                                       0.351188   \n",
       "4                                       0.211107   \n",
       "\n",
       "   ELE_DIFF_ENERGY_FLUX_STD: channel energy=30.0  ELE_TOTAL_ENERGY_FLUX  \\\n",
       "0                                       0.217732           1.073550e+11   \n",
       "1                                       0.210545           2.400544e+10   \n",
       "2                                       0.351188           8.597387e+09   \n",
       "3                                       0.489898           7.399737e+09   \n",
       "4                                       0.212434           1.398481e+10   \n",
       "\n",
       "   ELE_TOTAL_ENERGY_FLUX_STD  ELE_AVG_ENERGY  ELE_AVG_ENERGY_STD  \n",
       "0                   0.091754     1263.168457            0.091779  \n",
       "1                   0.097196      206.250397            0.097240  \n",
       "2                   0.138842      549.445435            0.138855  \n",
       "3                   0.145373      651.266235            0.145382  \n",
       "4                   0.157331      191.756180            0.157375  \n",
       "\n",
       "[5 rows x 49 columns]"
      ]
     },
     "execution_count": 9,
     "metadata": {},
     "output_type": "execute_result"
    }
   ],
   "source": [
    "df.head(5)"
   ]
  },
  {
   "cell_type": "code",
   "execution_count": null,
   "metadata": {},
   "outputs": [],
   "source": []
  },
  {
   "cell_type": "code",
   "execution_count": 10,
   "metadata": {},
   "outputs": [
    {
     "name": "stdout",
     "output_type": "stream",
     "text": [
      "[7, 8, 9, 10, 11, 12, 13, 14, 15, 16, 17, 18, 19, 20, 21, 22, 23, 24, 25]\n",
      "(19,)\n"
     ]
    }
   ],
   "source": [
    "cols_to_plot = []\n",
    "\n",
    "for i in range(df.shape[1]):\n",
    "    if 'ELE_DIFF_ENERGY_FLUX:' in df.columns[i]:\n",
    "        cols_to_plot.append(i)\n",
    "print(cols_to_plot)\n",
    "print(np.shape(cols_to_plot))"
   ]
  },
  {
   "cell_type": "code",
   "execution_count": 11,
   "metadata": {},
   "outputs": [
    {
     "data": {
      "text/plain": [
       "(19, 86400)"
      ]
     },
     "execution_count": 11,
     "metadata": {},
     "output_type": "execute_result"
    }
   ],
   "source": [
    "np.shape( np.transpose( df.iloc[:,cols_to_plot].values ) )"
   ]
  },
  {
   "cell_type": "code",
   "execution_count": 12,
   "metadata": {},
   "outputs": [
    {
     "data": {
      "text/plain": [
       "(86400, 49)"
      ]
     },
     "execution_count": 12,
     "metadata": {},
     "output_type": "execute_result"
    }
   ],
   "source": [
    "df.shape"
   ]
  },
  {
   "cell_type": "code",
   "execution_count": 13,
   "metadata": {},
   "outputs": [],
   "source": [
    "dts_idxs = [0,1000]\n",
    "plot_dts = df['datetime'][dts_idxs[0]:dts_idxs[1]]\n",
    "plot_mlats = df['SC_AACGM_LAT'][dts_idxs[0]:dts_idxs[1]]\n",
    "plot_mlts = df['SC_AACGM_LTIME'][dts_idxs[0]:dts_idxs[1]]\n",
    "plot_data = np.transpose( df.iloc[:,cols_to_plot].values[dts_idxs[0]:dts_idxs[1]] )\n",
    "plot_data[plot_data == 0] = np.nan\n",
    "\n",
    "plot_xticklabels = []\n",
    "for l in range(len(plot_dts)):\n",
    "#     plot_xticklabels[l] = '{}\\n{:.2f}\\n{:.2f}'.format(plot_dts[l],plot_mlats[l],plot_mlts[l])\n",
    "    plot_xticklabels.append( '{}\\n{:.2f}\\n{:.2f}'.format(plot_dts[l],plot_mlats[l],plot_mlts[l]) )"
   ]
  },
  {
   "cell_type": "code",
   "execution_count": 14,
   "metadata": {},
   "outputs": [
    {
     "name": "stdout",
     "output_type": "stream",
     "text": [
      "2010-01-31 00:16:39\n",
      "-51.60\n",
      "19.69\n"
     ]
    }
   ],
   "source": [
    "# print('{}\\n{}'.format(plot_dts[l],1))\n",
    "# plot_xticklabels.shape\n",
    "print( '{}\\n{:.2f}\\n{:.2f}'.format(plot_dts[l],plot_mlats[l],plot_mlts[l]) )"
   ]
  },
  {
   "cell_type": "code",
   "execution_count": 15,
   "metadata": {},
   "outputs": [
    {
     "name": "stdout",
     "output_type": "stream",
     "text": [
      "2010-01-31 00:00:10\n",
      "-71.32105741491092\n",
      "4.483497169719006\n",
      "2010-01-31 00:00:10\n",
      "-71.32\n",
      "4.48\n"
     ]
    }
   ],
   "source": [
    "np.shape( plot_xticklabels )\n",
    "\n",
    "chc = 10\n",
    "\n",
    "print( plot_dts[chc] )\n",
    "print( plot_mlats[chc] )\n",
    "print( plot_mlts[chc] )\n",
    "print( plot_xticklabels[chc] )\n"
   ]
  },
  {
   "cell_type": "code",
   "execution_count": 31,
   "metadata": {},
   "outputs": [
    {
     "data": {
      "image/png": "[encoded data removed]",
      "text/plain": [
       "<Figure size 1440x720 with 2 Axes>"
      ]
     },
     "metadata": {
      "needs_background": "light"
     },
     "output_type": "display_data"
    }
   ],
   "source": [
    "dts_idxs = [0,1000]\n",
    "# dts_idxs = [2000,2100]\n",
    "dx = 500 # set x tick labels intervals\n",
    "plot_dts = df['datetime'][dts_idxs[0]:dts_idxs[1]]\n",
    "plot_mlats = df['SC_AACGM_LAT'][dts_idxs[0]:dts_idxs[1]]\n",
    "plot_mlts = df['SC_AACGM_LTIME'][dts_idxs[0]:dts_idxs[1]]\n",
    "# plot_dts = df['datetime'][dts_idxs[0]:dts_idxs[1]].values\n",
    "# plot_mlats = df['SC_AACGM_LAT'][dts_idxs[0]:dts_idxs[1]].values\n",
    "# plot_mlts = df['SC_AACGM_LTIME'][dts_idxs[0]:dts_idxs[1]].values\n",
    "plot_data = np.transpose( df.iloc[:,cols_to_plot].values[dts_idxs[0]:dts_idxs[1]] )\n",
    "plot_data[plot_data == 0] = np.nan\n",
    "\n",
    "plot_xticklabels = []\n",
    "for l in range(len(plot_dts)):\n",
    "#     plot_xticklabels[l] = '{}\\n{:.2f}\\n{:.2f}'.format(plot_dts[l],plot_mlats[l],plot_mlts[l])\n",
    "    plot_xticklabels.append( '{}\\n{:.2f}\\n{:.2f}'.format(plot_dts[l],plot_mlats[l],plot_mlts[l]) )\n",
    "    \n",
    "    \n",
    "xx,yy = np.meshgrid(plot_dts,channel_energies)\n",
    "\n",
    "fig = plt.figure(1,figsize=(20,10))\n",
    "\n",
    "ax = plt.subplot(311)\n",
    "h = plt.contourf(xx,yy,plot_data,locator=ticker.LogLocator(),cmap='YlOrRd')\n",
    "ax.set_yscale('log')\n",
    "plt.colorbar()\n",
    "# ax.set_xticks(plot_dts[0:dx:].values)\n",
    "# ax.set_xticklabels(plot_xticklabels[0:dx:])\n",
    "ax.set_xlabel('Time')\n",
    "ax.set_ylabel('Energy [eV]')\n",
    "\n",
    "plt.show()\n"
   ]
  },
  {
   "cell_type": "code",
   "execution_count": 32,
   "metadata": {},
   "outputs": [
    {
     "data": {
      "text/plain": [
       "array([[        nan,         nan,         nan, ...,         nan,\n",
       "                nan,         nan],\n",
       "       [  510561.22,         nan,         nan, ...,         nan,\n",
       "                nan,         nan],\n",
       "       [ 1339513.1 ,         nan,         nan, ...,         nan,\n",
       "                nan,         nan],\n",
       "       ...,\n",
       "       [12899278.  ,  4400930.5 ,  3186880.8 , ...,         nan,\n",
       "                nan,         nan],\n",
       "       [13037080.  ,  4248037.5 ,  2783197.  , ...,         nan,\n",
       "                nan,         nan],\n",
       "       [22986660.  ,  6063965.5 ,  1833291.9 , ...,         nan,\n",
       "                nan,         nan]], dtype=float32)"
      ]
     },
     "execution_count": 32,
     "metadata": {},
     "output_type": "execute_result"
    }
   ],
   "source": [
    "plot_data[0:10:]"
   ]
  },
  {
   "cell_type": "code",
   "execution_count": null,
   "metadata": {},
   "outputs": [],
   "source": []
  },
  {
   "cell_type": "code",
   "execution_count": null,
   "metadata": {},
   "outputs": [],
   "source": []
  },
  {
   "cell_type": "code",
   "execution_count": null,
   "metadata": {},
   "outputs": [],
   "source": [
    "print(df.shape)\n",
    "df = df[df['SC_AACGM_LAT'] >= np.abs(45)]\n",
    "print(df.shape)"
   ]
  },
  {
   "cell_type": "code",
   "execution_count": 55,
   "metadata": {},
   "outputs": [
    {
     "name": "stdout",
     "output_type": "stream",
     "text": [
      "/Volumes/mcgdrive/DMSPdata_v1_1_0/f16/2010/01\n"
     ]
    },
    {
     "data": {
      "text/plain": [
       "True"
      ]
     },
     "execution_count": 55,
     "metadata": {},
     "output_type": "execute_result"
    }
   ],
   "source": [
    "file_directory = '/Volumes/mcgdrive/DMSPdata_v1_1_0/'\n",
    "directory_chc = os.path.join(file_directory,'f{:02.0f}'.format(sat),'{:04.0f}'.format(yr),'{:02.0f}'.format(mn))\n",
    "print(directory_chc)\n",
    "\n",
    "os.path.exists(directory_chc)"
   ]
  },
  {
   "cell_type": "code",
   "execution_count": 71,
   "metadata": {},
   "outputs": [],
   "source": [
    "# Create a function to take a satellite, year, month, and day and save a csv file from Pandas DataFrame\n",
    "\n",
    "\n",
    "def DMSP_SSJ_CDF_to_DataFrame(sat,yr,mn,dy,load_directory,save_directory):\n",
    "    \"  DMSP_SSJ_CDF_to_DataFrame reads data from CDF files created by NCEI (https://www.ngdc.noaa.gov/) \"\n",
    "    \"    and saves a csv file of the Pandas Dataframe created as a subset of the full data              \"\n",
    "    \n",
    "    function_directory = os.path.join(load_directory,'f{:02.0f}'.format(sat),'{:04.0f}'.format(yr),'{:02.0f}'.format(mn))\n",
    "    file = 'dmsp-f{:02.0f}_ssj_precipitating-electrons-ions_{:04.0f}{:02.0f}{:02.0f}_v1.1.0.cdf'.format(sat,yr,mn,dy)\n",
    "    \n",
    "    function_file = os.path.join(function_directory,file)\n",
    "    \n",
    "    if (os.path.exists(function_file) == False):\n",
    "        print('Attempted to load file={}\\n........'.format(function_file))\n",
    "        print('Exiting because file does not exist\\n  --->Will not save data for:\\n     sat=F{:02.0f}\\n     year={:04.0f}\\n     month={:02.0f}\\n     day={:02.0f}'.format(sat,yr,mn,dy))\n",
    "        return\n",
    "    \n",
    "    # Load data\n",
    "    try:\n",
    "        ds = pycdf.CDF(function_file) # with spacepy + CDF\n",
    "        channel_energies = ds['CHANNEL_ENERGIES'][...]\n",
    "    except:\n",
    "        print('Could not open CDF for:\\n     sat=F{:02.0f}\\n     year={:04.0f}\\n     month={:02.0f}\\n     day={:02.0f}'.format(sat,yr,mn,dy))\n",
    "        return\n",
    "    \n",
    "    # Create DataFrame\n",
    "\n",
    "    df = pd.DataFrame()\n",
    "    df['datetime'] = pd.Series(ds['Epoch'][...])\n",
    "\n",
    "    for i in ds:\n",
    "        # DataFrame\n",
    "        if (i == 'SC_GEOCENTRIC_LAT'):\n",
    "            df[i] = pd.Series(ds[i][...])\n",
    "        elif (i == 'SC_GEOCENTRIC_LON'):\n",
    "            df[i] = pd.Series(ds[i][...])\n",
    "        elif (i == 'SC_GEOCENTRIC_R'):\n",
    "            df[i] = pd.Series(ds[i][...])\n",
    "        elif (i == 'SC_AACGM_LAT'):\n",
    "            df[i] = pd.Series(ds[i][...])\n",
    "        elif (i == 'SC_AACGM_LON'):\n",
    "            df[i] = pd.Series(ds[i][...])\n",
    "        elif (i == 'SC_AACGM_LTIME'):\n",
    "            df[i] = pd.Series(ds[i][...])\n",
    "        elif (i == 'ELE_DIFF_ENERGY_FLUX'):\n",
    "            for j in range(ds[i].shape[1]):\n",
    "                df['ELE_DIFF_ENERGY_FLUX: channel energy=' + str(channel_energies[j])] = pd.Series(ds[i][:,j])\n",
    "        elif (i == 'ELE_DIFF_ENERGY_FLUX_STD'):\n",
    "            for j in range(ds[i].shape[1]):\n",
    "                df['ELE_DIFF_ENERGY_FLUX_STD: channel energy=' + str(channel_energies[j])] = pd.Series(ds[i][:,j])\n",
    "        elif (i == 'ELE_TOTAL_ENERGY_FLUX'):\n",
    "            df[i] = pd.Series(ds[i][...])\n",
    "        elif (i == 'ELE_TOTAL_ENERGY_FLUX_STD'):\n",
    "            df[i] = pd.Series(ds[i][...])\n",
    "        elif (i == 'ELE_AVG_ENERGY'):\n",
    "            df[i] = pd.Series(ds[i][...])\n",
    "        elif (i == 'ELE_AVG_ENERGY_STD'):\n",
    "            df[i] = pd.Series(ds[i][...])\n",
    "                \n",
    "\n",
    "    # Remove data outside of high-latitude regimes\n",
    "    df = df[df['SC_AACGM_LAT'] >= np.abs(45)]\n",
    "    \n",
    "    # Save the DataFrame\n",
    "    day_of_year = df['datetime'].iloc[0].timetuple().tm_yday\n",
    "    save_file = os.path.join(save_directory,'dmsp-f{:02.0f}_ssj_{:04.0f}_{:03.0f}_v1.1.0.csv'.format(sat,yr,day_of_year))\n",
    "    pd.DataFrame.to_csv(df,save_file,na_rep='NaN')\n",
    "\n",
    "    return"
   ]
  },
  {
   "cell_type": "code",
   "execution_count": 72,
   "metadata": {},
   "outputs": [
    {
     "name": "stdout",
     "output_type": "stream",
     "text": [
      "CPU times: user 2.62 s, sys: 74.7 ms, total: 2.7 s\n",
      "Wall time: 3.07 s\n"
     ]
    }
   ],
   "source": [
    "%%time\n",
    "\n",
    "load_directory = '/Volumes/mcgdrive/DMSPdata_v1_1_0/'\n",
    "save_directory = '/Users/ryanmcgranaghan/Documents/DMSPdata/'\n",
    "sat = 16\n",
    "yr = 2010\n",
    "mn = 1\n",
    "dy = 15\n",
    "\n",
    "DMSP_SSJ_CDF_to_DataFrame(sat,yr,mn,dy,load_directory,save_directory)"
   ]
  },
  {
   "cell_type": "code",
   "execution_count": 70,
   "metadata": {},
   "outputs": [
    {
     "data": {
      "text/plain": [
       "True"
      ]
     },
     "execution_count": 70,
     "metadata": {},
     "output_type": "execute_result"
    }
   ],
   "source": [
    "os.path.exists('/Volumes/mcgdrive/DMSPdata_v1_1_0/f16/2010/01/dmsp-f16_ssj_precipitating-electrons-ions_20100115_v1.1.0.cdf')\n",
    "\n",
    "\n",
    "\n"
   ]
  },
  {
   "cell_type": "code",
   "execution_count": 45,
   "metadata": {},
   "outputs": [
    {
     "name": "stdout",
     "output_type": "stream",
     "text": [
      "exiting because file does not exist\n",
      "  --->Will not save data for:\n",
      "     sat=F16\n",
      "     year=2010\n",
      "     month=01\n",
      "     day=01\n"
     ]
    }
   ],
   "source": [
    "day_of_year = dfdatetime.timetuple().tm_yday"
   ]
  },
  {
   "cell_type": "code",
   "execution_count": 47,
   "metadata": {},
   "outputs": [
    {
     "name": "stdout",
     "output_type": "stream",
     "text": [
      "dmsp-f16_ssj_precipitating-electrons-ions_20100101_v1.1.0.cdf\n"
     ]
    }
   ],
   "source": [
    "file_chc2 = 'dmsp-f{:02.0f}_ssj_precipitating-electrons-ions_{:04.0f}{:02.0f}{:02.0f}_v1.1.0.cdf'.format(sat,yr,mn,dy)\n",
    "print(file_chc2)"
   ]
  },
  {
   "cell_type": "code",
   "execution_count": 77,
   "metadata": {},
   "outputs": [],
   "source": [
    "datetime_start = datetime.datetime(2010,1,1)\n",
    "input_datetimes = [ (datetime_start + datetime.timedelta(days=d)) for d in range(0,5) ]"
   ]
  },
  {
   "cell_type": "code",
   "execution_count": 78,
   "metadata": {},
   "outputs": [],
   "source": [
    "df_datetimes = pd.to_datetime(input_datetimes)"
   ]
  },
  {
   "cell_type": "code",
   "execution_count": 93,
   "metadata": {},
   "outputs": [
    {
     "data": {
      "text/plain": [
       "5"
      ]
     },
     "execution_count": 93,
     "metadata": {},
     "output_type": "execute_result"
    }
   ],
   "source": [
    "df_datetimes.day[-1]"
   ]
  },
  {
   "cell_type": "code",
   "execution_count": null,
   "metadata": {},
   "outputs": [],
   "source": []
  }
 ],
 "metadata": {
  "kernelspec": {
   "display_name": "Python 3",
   "language": "python",
   "name": "python3"
  },
  "language_info": {
   "codemirror_mode": {
    "name": "ipython",
    "version": 3
   },
   "file_extension": ".py",
   "mimetype": "text/x-python",
   "name": "python",
   "nbconvert_exporter": "python",
   "pygments_lexer": "ipython3",
   "version": "3.9.2"
  }
 },
 "nbformat": 4,
 "nbformat_minor": 2
}
