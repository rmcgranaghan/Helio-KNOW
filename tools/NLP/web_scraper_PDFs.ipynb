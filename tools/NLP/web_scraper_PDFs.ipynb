{
 "cells": [
  {
   "cell_type": "markdown",
   "id": "f5e64963",
   "metadata": {},
   "source": [
    "#### Scrape a webpage for all PDFs\n",
    "NOTE: code obtained from https://blogs.cornell.edu/jingyi/2020/04/09/automatically-download-all-pdf-files-from-a-webpage/"
   ]
  },
  {
   "cell_type": "code",
   "execution_count": null,
   "id": "5f33d47d",
   "metadata": {},
   "outputs": [],
   "source": [
    "import os\n",
    "import requests\n",
    "from urllib.parse import urljoin\n",
    "from bs4 import BeautifulSoup\n"
   ]
  },
  {
   "cell_type": "code",
   "execution_count": null,
   "id": "82e25518",
   "metadata": {},
   "outputs": [],
   "source": [
    "# Choose the URL\n",
    "url = \"https://www.hou.usra.edu/meetings/helio2050/pdf/helio2050whitepapers_program.htm\""
   ]
  },
  {
   "cell_type": "code",
   "execution_count": null,
   "id": "c1dd6bf1",
   "metadata": {},
   "outputs": [],
   "source": [
    "#If there is no such folder, the script will create one automatically\n",
    "folder_location = '/Users/ryanmcgranaghan/Documents/Conferences/Helio2050'\n",
    "if not os.path.exists(folder_location):\n",
    "    os.mkdir(folder_location)\n",
    "\n",
    "response = requests.get(url)\n",
    "soup= BeautifulSoup(response.text, \"html.parser\")\n",
    "for link in soup.select(\"a[href$='.pdf']\"):\n",
    "    #Name the pdf files using the last portion of each link which are unique in this case\n",
    "    filename = os.path.join(folder_location,link['href'].split('/')[-1])\n",
    "    with open(filename, 'wb') as f:\n",
    "        f.write(requests.get(urljoin(url,link['href'])).content)"
   ]
  },
  {
   "cell_type": "code",
   "execution_count": null,
   "id": "44d6079b",
   "metadata": {},
   "outputs": [],
   "source": []
  }
 ],
 "metadata": {
  "kernelspec": {
   "display_name": "Python 3",
   "language": "python",
   "name": "python3"
  },
  "language_info": {
   "codemirror_mode": {
    "name": "ipython",
    "version": 3
   },
   "file_extension": ".py",
   "mimetype": "text/x-python",
   "name": "python",
   "nbconvert_exporter": "python",
   "pygments_lexer": "ipython3",
   "version": "3.9.2"
  }
 },
 "nbformat": 4,
 "nbformat_minor": 5
}
