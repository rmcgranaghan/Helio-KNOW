{
 "cells": [
  {
   "cell_type": "markdown",
   "id": "7af85ecb",
   "metadata": {},
   "source": [
    "# A script to use the [Heliophysics 2013 Decadal Survey](https://www.nationalacademies.org/our-work/a-decadal-strategy-for-solar-and-space-physics-heliophysics) as an 'anchor' and to assess trends up to [Helio-2050 Workshop](https://www.hou.usra.edu/meetings/helio2050/) White Paper Submissions"
   ]
  },
  {
   "cell_type": "code",
   "execution_count": null,
   "id": "a874f3bf",
   "metadata": {},
   "outputs": [],
   "source": []
  },
  {
   "cell_type": "code",
   "execution_count": null,
   "id": "ffe6793c",
   "metadata": {},
   "outputs": [],
   "source": []
  },
  {
   "cell_type": "code",
   "execution_count": null,
   "id": "e2370e70",
   "metadata": {},
   "outputs": [],
   "source": []
  }
 ],
 "metadata": {
  "kernelspec": {
   "display_name": "Python 3",
   "language": "python",
   "name": "python3"
  },
  "language_info": {
   "codemirror_mode": {
    "name": "ipython",
    "version": 3
   },
   "file_extension": ".py",
   "mimetype": "text/x-python",
   "name": "python",
   "nbconvert_exporter": "python",
   "pygments_lexer": "ipython3",
   "version": "3.9.2"
  }
 },
 "nbformat": 4,
 "nbformat_minor": 5
}
