{
 "cells": [
  {
   "cell_type": "code",
   "execution_count": 1,
   "id": "0323b645",
   "metadata": {
    "ExecuteTime": {
     "end_time": "2022-08-22T14:44:56.040750Z",
     "start_time": "2022-08-22T14:44:55.781937Z"
    }
   },
   "outputs": [],
   "source": [
    "import numpy as np\n",
    "\n"
   ]
  },
  {
   "cell_type": "code",
   "execution_count": 17,
   "id": "e0640edd",
   "metadata": {
    "ExecuteTime": {
     "end_time": "2022-08-22T14:51:27.395865Z",
     "start_time": "2022-08-22T14:51:27.392854Z"
    }
   },
   "outputs": [],
   "source": [
    "def growth_rate(starting_value,years,growth_rate):\n",
    "    \n",
    "    future_value = 0\n",
    "    for i in range(years):\n",
    "        future_value += starting_value*((1+growth_rate))**i\n",
    "\n",
    "    return future_value"
   ]
  },
  {
   "cell_type": "code",
   "execution_count": 19,
   "id": "babe9452",
   "metadata": {
    "ExecuteTime": {
     "end_time": "2022-08-22T14:52:52.311913Z",
     "start_time": "2022-08-22T14:52:52.308485Z"
    }
   },
   "outputs": [
    {
     "data": {
      "text/plain": [
       "29778.078575835498"
      ]
     },
     "execution_count": 19,
     "metadata": {},
     "output_type": "execute_result"
    }
   ],
   "source": [
    "growth_rate(1000,20,0.04)"
   ]
  },
  {
   "cell_type": "code",
   "execution_count": null,
   "id": "fb1f9f8b",
   "metadata": {},
   "outputs": [],
   "source": []
  },
  {
   "cell_type": "code",
   "execution_count": null,
   "id": "4cf8719c",
   "metadata": {},
   "outputs": [],
   "source": []
  }
 ],
 "metadata": {
  "kernelspec": {
   "display_name": "Python 3",
   "language": "python",
   "name": "python3"
  },
  "language_info": {
   "codemirror_mode": {
    "name": "ipython",
    "version": 3
   },
   "file_extension": ".py",
   "mimetype": "text/x-python",
   "name": "python",
   "nbconvert_exporter": "python",
   "pygments_lexer": "ipython3",
   "version": "3.9.2"
  }
 },
 "nbformat": 4,
 "nbformat_minor": 5
}
